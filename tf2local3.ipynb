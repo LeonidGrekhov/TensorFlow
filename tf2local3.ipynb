{
 "cells": [
  {
   "cell_type": "code",
   "execution_count": 1,
   "metadata": {},
   "outputs": [],
   "source": [
    "from __future__ import absolute_import, division, print_function, unicode_literals\n",
    "\n",
    "\n",
    "import tensorflow as tf\n",
    "\n",
    "import pandas as pd"
   ]
  },
  {
   "cell_type": "code",
   "execution_count": 2,
   "metadata": {},
   "outputs": [],
   "source": [
    "CSV_COLUMN_NAMES = ['SepalLength', 'SepalWidth', 'PetalLength', 'PetalWidth', 'Species']\n",
    "SPECIES = ['Setosa', 'Versicolor', 'Virginica']"
   ]
  },
  {
   "cell_type": "code",
   "execution_count": 3,
   "metadata": {},
   "outputs": [],
   "source": [
    "train_path = tf.keras.utils.get_file(\n",
    "    \"iris_training.csv\", \"https://storage.googleapis.com/download.tensorflow.org/data/iris_training.csv\")\n",
    "test_path = tf.keras.utils.get_file(\n",
    "    \"iris_test.csv\", \"https://storage.googleapis.com/download.tensorflow.org/data/iris_test.csv\")\n",
    "\n",
    "train = pd.read_csv(train_path, names=CSV_COLUMN_NAMES, header=0)\n",
    "test = pd.read_csv(test_path, names=CSV_COLUMN_NAMES, header=0)\n"
   ]
  },
  {
   "cell_type": "code",
   "execution_count": 4,
   "metadata": {},
   "outputs": [
    {
     "data": {
      "text/html": [
       "<div>\n",
       "<style scoped>\n",
       "    .dataframe tbody tr th:only-of-type {\n",
       "        vertical-align: middle;\n",
       "    }\n",
       "\n",
       "    .dataframe tbody tr th {\n",
       "        vertical-align: top;\n",
       "    }\n",
       "\n",
       "    .dataframe thead th {\n",
       "        text-align: right;\n",
       "    }\n",
       "</style>\n",
       "<table border=\"1\" class=\"dataframe\">\n",
       "  <thead>\n",
       "    <tr style=\"text-align: right;\">\n",
       "      <th></th>\n",
       "      <th>SepalLength</th>\n",
       "      <th>SepalWidth</th>\n",
       "      <th>PetalLength</th>\n",
       "      <th>PetalWidth</th>\n",
       "      <th>Species</th>\n",
       "    </tr>\n",
       "  </thead>\n",
       "  <tbody>\n",
       "    <tr>\n",
       "      <th>0</th>\n",
       "      <td>6.4</td>\n",
       "      <td>2.8</td>\n",
       "      <td>5.6</td>\n",
       "      <td>2.2</td>\n",
       "      <td>2</td>\n",
       "    </tr>\n",
       "    <tr>\n",
       "      <th>1</th>\n",
       "      <td>5.0</td>\n",
       "      <td>2.3</td>\n",
       "      <td>3.3</td>\n",
       "      <td>1.0</td>\n",
       "      <td>1</td>\n",
       "    </tr>\n",
       "    <tr>\n",
       "      <th>2</th>\n",
       "      <td>4.9</td>\n",
       "      <td>2.5</td>\n",
       "      <td>4.5</td>\n",
       "      <td>1.7</td>\n",
       "      <td>2</td>\n",
       "    </tr>\n",
       "    <tr>\n",
       "      <th>3</th>\n",
       "      <td>4.9</td>\n",
       "      <td>3.1</td>\n",
       "      <td>1.5</td>\n",
       "      <td>0.1</td>\n",
       "      <td>0</td>\n",
       "    </tr>\n",
       "    <tr>\n",
       "      <th>4</th>\n",
       "      <td>5.7</td>\n",
       "      <td>3.8</td>\n",
       "      <td>1.7</td>\n",
       "      <td>0.3</td>\n",
       "      <td>0</td>\n",
       "    </tr>\n",
       "  </tbody>\n",
       "</table>\n",
       "</div>"
      ],
      "text/plain": [
       "   SepalLength  SepalWidth  PetalLength  PetalWidth  Species\n",
       "0          6.4         2.8          5.6         2.2        2\n",
       "1          5.0         2.3          3.3         1.0        1\n",
       "2          4.9         2.5          4.5         1.7        2\n",
       "3          4.9         3.1          1.5         0.1        0\n",
       "4          5.7         3.8          1.7         0.3        0"
      ]
     },
     "execution_count": 4,
     "metadata": {},
     "output_type": "execute_result"
    }
   ],
   "source": [
    "train.head()"
   ]
  },
  {
   "cell_type": "code",
   "execution_count": 5,
   "metadata": {},
   "outputs": [
    {
     "data": {
      "text/html": [
       "<div>\n",
       "<style scoped>\n",
       "    .dataframe tbody tr th:only-of-type {\n",
       "        vertical-align: middle;\n",
       "    }\n",
       "\n",
       "    .dataframe tbody tr th {\n",
       "        vertical-align: top;\n",
       "    }\n",
       "\n",
       "    .dataframe thead th {\n",
       "        text-align: right;\n",
       "    }\n",
       "</style>\n",
       "<table border=\"1\" class=\"dataframe\">\n",
       "  <thead>\n",
       "    <tr style=\"text-align: right;\">\n",
       "      <th></th>\n",
       "      <th>SepalLength</th>\n",
       "      <th>SepalWidth</th>\n",
       "      <th>PetalLength</th>\n",
       "      <th>PetalWidth</th>\n",
       "    </tr>\n",
       "  </thead>\n",
       "  <tbody>\n",
       "    <tr>\n",
       "      <th>0</th>\n",
       "      <td>6.4</td>\n",
       "      <td>2.8</td>\n",
       "      <td>5.6</td>\n",
       "      <td>2.2</td>\n",
       "    </tr>\n",
       "    <tr>\n",
       "      <th>1</th>\n",
       "      <td>5.0</td>\n",
       "      <td>2.3</td>\n",
       "      <td>3.3</td>\n",
       "      <td>1.0</td>\n",
       "    </tr>\n",
       "    <tr>\n",
       "      <th>2</th>\n",
       "      <td>4.9</td>\n",
       "      <td>2.5</td>\n",
       "      <td>4.5</td>\n",
       "      <td>1.7</td>\n",
       "    </tr>\n",
       "    <tr>\n",
       "      <th>3</th>\n",
       "      <td>4.9</td>\n",
       "      <td>3.1</td>\n",
       "      <td>1.5</td>\n",
       "      <td>0.1</td>\n",
       "    </tr>\n",
       "    <tr>\n",
       "      <th>4</th>\n",
       "      <td>5.7</td>\n",
       "      <td>3.8</td>\n",
       "      <td>1.7</td>\n",
       "      <td>0.3</td>\n",
       "    </tr>\n",
       "  </tbody>\n",
       "</table>\n",
       "</div>"
      ],
      "text/plain": [
       "   SepalLength  SepalWidth  PetalLength  PetalWidth\n",
       "0          6.4         2.8          5.6         2.2\n",
       "1          5.0         2.3          3.3         1.0\n",
       "2          4.9         2.5          4.5         1.7\n",
       "3          4.9         3.1          1.5         0.1\n",
       "4          5.7         3.8          1.7         0.3"
      ]
     },
     "execution_count": 5,
     "metadata": {},
     "output_type": "execute_result"
    }
   ],
   "source": [
    "train_y = train.pop('Species')\n",
    "test_y = test.pop('Species')\n",
    "train.head() # the species column is now gone"
   ]
  },
  {
   "cell_type": "code",
   "execution_count": 6,
   "metadata": {},
   "outputs": [
    {
     "data": {
      "text/plain": [
       "(120, 4)"
      ]
     },
     "execution_count": 6,
     "metadata": {},
     "output_type": "execute_result"
    }
   ],
   "source": [
    "train.shape\n"
   ]
  },
  {
   "cell_type": "code",
   "execution_count": 7,
   "metadata": {},
   "outputs": [],
   "source": [
    "def input_fn(features, labels, training=True, batch_size=256):\n",
    "    # Convert the inputs to a Dataset.\n",
    "    dataset = tf.data.Dataset.from_tensor_slices((dict(features), labels))\n",
    "\n",
    "    # Shuffle and repeat if you are in training mode.\n",
    "    if training:\n",
    "        dataset = dataset.shuffle(1000).repeat()\n",
    "    \n",
    "    return dataset.batch(batch_size)"
   ]
  },
  {
   "cell_type": "code",
   "execution_count": 8,
   "metadata": {},
   "outputs": [
    {
     "name": "stdout",
     "output_type": "stream",
     "text": [
      "[NumericColumn(key='SepalLength', shape=(1,), default_value=None, dtype=tf.float32, normalizer_fn=None), NumericColumn(key='SepalWidth', shape=(1,), default_value=None, dtype=tf.float32, normalizer_fn=None), NumericColumn(key='PetalLength', shape=(1,), default_value=None, dtype=tf.float32, normalizer_fn=None), NumericColumn(key='PetalWidth', shape=(1,), default_value=None, dtype=tf.float32, normalizer_fn=None)]\n"
     ]
    }
   ],
   "source": [
    "my_feature_columns = []\n",
    "for key in train.keys():\n",
    "    my_feature_columns.append(tf.feature_column.numeric_column(key=key))\n",
    "print(my_feature_columns)"
   ]
  },
  {
   "cell_type": "code",
   "execution_count": 9,
   "metadata": {},
   "outputs": [
    {
     "name": "stdout",
     "output_type": "stream",
     "text": [
      "INFO:tensorflow:Using default config.\n",
      "WARNING:tensorflow:Using temporary folder as model directory: C:\\Users\\X\\AppData\\Local\\Temp\\tmpa84uwk1z\n",
      "INFO:tensorflow:Using config: {'_model_dir': 'C:\\\\Users\\\\X\\\\AppData\\\\Local\\\\Temp\\\\tmpa84uwk1z', '_tf_random_seed': None, '_save_summary_steps': 100, '_save_checkpoints_steps': None, '_save_checkpoints_secs': 600, '_session_config': allow_soft_placement: true\n",
      "graph_options {\n",
      "  rewrite_options {\n",
      "    meta_optimizer_iterations: ONE\n",
      "  }\n",
      "}\n",
      ", '_keep_checkpoint_max': 5, '_keep_checkpoint_every_n_hours': 10000, '_log_step_count_steps': 100, '_train_distribute': None, '_device_fn': None, '_protocol': None, '_eval_distribute': None, '_experimental_distribute': None, '_experimental_max_worker_delay_secs': None, '_session_creation_timeout_secs': 7200, '_service': None, '_cluster_spec': ClusterSpec({}), '_task_type': 'worker', '_task_id': 0, '_global_id_in_cluster': 0, '_master': '', '_evaluation_master': '', '_is_chief': True, '_num_ps_replicas': 0, '_num_worker_replicas': 1}\n"
     ]
    }
   ],
   "source": [
    "classifier = tf.estimator.DNNClassifier(\n",
    "    feature_columns=my_feature_columns,\n",
    "    # Two hidden layers of 30 and 10 nodes respectively.\n",
    "    hidden_units=[30, 10],\n",
    "    # The model must choose between 3 classes.\n",
    "    n_classes=3)"
   ]
  },
  {
   "cell_type": "code",
   "execution_count": 10,
   "metadata": {},
   "outputs": [
    {
     "name": "stdout",
     "output_type": "stream",
     "text": [
      "WARNING:tensorflow:From C:\\Users\\X\\Anaconda3\\envs\\tensorflow_env\\lib\\site-packages\\tensorflow_core\\python\\ops\\resource_variable_ops.py:1635: calling BaseResourceVariable.__init__ (from tensorflow.python.ops.resource_variable_ops) with constraint is deprecated and will be removed in a future version.\n",
      "Instructions for updating:\n",
      "If using Keras pass *_constraint arguments to layers.\n",
      "WARNING:tensorflow:From C:\\Users\\X\\Anaconda3\\envs\\tensorflow_env\\lib\\site-packages\\tensorflow_core\\python\\training\\training_util.py:236: Variable.initialized_value (from tensorflow.python.ops.variables) is deprecated and will be removed in a future version.\n",
      "Instructions for updating:\n",
      "Use Variable.read_value. Variables in 2.X are initialized automatically both in eager and graph (inside tf.defun) contexts.\n",
      "INFO:tensorflow:Calling model_fn.\n",
      "WARNING:tensorflow:Layer dnn is casting an input tensor from dtype float64 to the layer's dtype of float32, which is new behavior in TensorFlow 2.  The layer has dtype float32 because it's dtype defaults to floatx.\n",
      "\n",
      "If you intended to run this layer in float32, you can safely ignore this warning. If in doubt, this warning is likely only an issue if you are porting a TensorFlow 1.X model to TensorFlow 2.\n",
      "\n",
      "To change all layers to have dtype float64 by default, call `tf.keras.backend.set_floatx('float64')`. To change just this layer, pass dtype='float64' to the layer constructor. If you are the author of this layer, you can disable autocasting by passing autocast=False to the base Layer constructor.\n",
      "\n",
      "WARNING:tensorflow:From C:\\Users\\X\\Anaconda3\\envs\\tensorflow_env\\lib\\site-packages\\tensorflow_core\\python\\keras\\optimizer_v2\\adagrad.py:103: calling Constant.__init__ (from tensorflow.python.ops.init_ops) with dtype is deprecated and will be removed in a future version.\n",
      "Instructions for updating:\n",
      "Call initializer instance with the dtype argument instead of passing it to the constructor\n",
      "INFO:tensorflow:Done calling model_fn.\n",
      "INFO:tensorflow:Create CheckpointSaverHook.\n",
      "INFO:tensorflow:Graph was finalized.\n",
      "INFO:tensorflow:Running local_init_op.\n",
      "INFO:tensorflow:Done running local_init_op.\n",
      "INFO:tensorflow:Saving checkpoints for 0 into C:\\Users\\X\\AppData\\Local\\Temp\\tmpa84uwk1z\\model.ckpt.\n",
      "INFO:tensorflow:loss = 1.4677682, step = 0\n",
      "INFO:tensorflow:global_step/sec: 290.433\n",
      "INFO:tensorflow:loss = 1.2481694, step = 100 (0.345 sec)\n",
      "INFO:tensorflow:global_step/sec: 345.707\n",
      "INFO:tensorflow:loss = 1.1801162, step = 200 (0.290 sec)\n",
      "INFO:tensorflow:global_step/sec: 355.549\n",
      "INFO:tensorflow:loss = 1.1237514, step = 300 (0.281 sec)\n",
      "INFO:tensorflow:global_step/sec: 363.306\n",
      "INFO:tensorflow:loss = 1.0898483, step = 400 (0.275 sec)\n",
      "INFO:tensorflow:global_step/sec: 353.036\n",
      "INFO:tensorflow:loss = 1.0651213, step = 500 (0.283 sec)\n",
      "INFO:tensorflow:global_step/sec: 368.668\n",
      "INFO:tensorflow:loss = 1.0381985, step = 600 (0.271 sec)\n",
      "INFO:tensorflow:global_step/sec: 364.632\n",
      "INFO:tensorflow:loss = 1.0216463, step = 700 (0.273 sec)\n",
      "INFO:tensorflow:global_step/sec: 368.668\n",
      "INFO:tensorflow:loss = 1.007982, step = 800 (0.272 sec)\n",
      "INFO:tensorflow:global_step/sec: 361.99\n",
      "INFO:tensorflow:loss = 0.9909075, step = 900 (0.276 sec)\n",
      "INFO:tensorflow:global_step/sec: 363.306\n",
      "INFO:tensorflow:loss = 0.9810322, step = 1000 (0.275 sec)\n",
      "INFO:tensorflow:global_step/sec: 360.683\n",
      "INFO:tensorflow:loss = 0.9807093, step = 1100 (0.277 sec)\n",
      "INFO:tensorflow:global_step/sec: 365.968\n",
      "INFO:tensorflow:loss = 0.953071, step = 1200 (0.273 sec)\n",
      "INFO:tensorflow:global_step/sec: 360.682\n",
      "INFO:tensorflow:loss = 0.95153624, step = 1300 (0.276 sec)\n",
      "INFO:tensorflow:global_step/sec: 368.669\n",
      "INFO:tensorflow:loss = 0.938061, step = 1400 (0.272 sec)\n",
      "INFO:tensorflow:global_step/sec: 360.683\n",
      "INFO:tensorflow:loss = 0.9255319, step = 1500 (0.276 sec)\n",
      "INFO:tensorflow:global_step/sec: 370.034\n",
      "INFO:tensorflow:loss = 0.9001148, step = 1600 (0.271 sec)\n",
      "INFO:tensorflow:global_step/sec: 365.967\n",
      "INFO:tensorflow:loss = 0.8996586, step = 1700 (0.273 sec)\n",
      "INFO:tensorflow:global_step/sec: 365.962\n",
      "INFO:tensorflow:loss = 0.89584315, step = 1800 (0.273 sec)\n",
      "INFO:tensorflow:global_step/sec: 365.973\n",
      "INFO:tensorflow:loss = 0.88841736, step = 1900 (0.272 sec)\n",
      "INFO:tensorflow:global_step/sec: 367.314\n",
      "INFO:tensorflow:loss = 0.88639694, step = 2000 (0.273 sec)\n",
      "INFO:tensorflow:global_step/sec: 364.631\n",
      "INFO:tensorflow:loss = 0.8650114, step = 2100 (0.273 sec)\n",
      "INFO:tensorflow:global_step/sec: 367.314\n",
      "INFO:tensorflow:loss = 0.8652065, step = 2200 (0.273 sec)\n",
      "INFO:tensorflow:global_step/sec: 368.668\n",
      "INFO:tensorflow:loss = 0.8429882, step = 2300 (0.270 sec)\n",
      "INFO:tensorflow:global_step/sec: 367.313\n",
      "INFO:tensorflow:loss = 0.8366753, step = 2400 (0.272 sec)\n",
      "INFO:tensorflow:global_step/sec: 368.669\n",
      "INFO:tensorflow:loss = 0.838999, step = 2500 (0.272 sec)\n",
      "INFO:tensorflow:global_step/sec: 365.968\n",
      "INFO:tensorflow:loss = 0.8346855, step = 2600 (0.273 sec)\n",
      "INFO:tensorflow:global_step/sec: 365.968\n",
      "INFO:tensorflow:loss = 0.8123478, step = 2700 (0.273 sec)\n",
      "INFO:tensorflow:global_step/sec: 367.312\n",
      "INFO:tensorflow:loss = 0.80925894, step = 2800 (0.272 sec)\n",
      "INFO:tensorflow:global_step/sec: 367.313\n",
      "INFO:tensorflow:loss = 0.8008272, step = 2900 (0.272 sec)\n",
      "INFO:tensorflow:global_step/sec: 368.668\n",
      "INFO:tensorflow:loss = 0.79027957, step = 3000 (0.271 sec)\n",
      "INFO:tensorflow:global_step/sec: 368.668\n",
      "INFO:tensorflow:loss = 0.783658, step = 3100 (0.271 sec)\n",
      "INFO:tensorflow:global_step/sec: 370.034\n",
      "INFO:tensorflow:loss = 0.7812108, step = 3200 (0.270 sec)\n",
      "INFO:tensorflow:global_step/sec: 360.682\n",
      "INFO:tensorflow:loss = 0.7612175, step = 3300 (0.277 sec)\n",
      "INFO:tensorflow:global_step/sec: 365.968\n",
      "INFO:tensorflow:loss = 0.76618963, step = 3400 (0.272 sec)\n",
      "INFO:tensorflow:global_step/sec: 365.968\n",
      "INFO:tensorflow:loss = 0.74757063, step = 3500 (0.273 sec)\n",
      "INFO:tensorflow:global_step/sec: 367.313\n",
      "INFO:tensorflow:loss = 0.7421839, step = 3600 (0.272 sec)\n",
      "INFO:tensorflow:global_step/sec: 364.632\n",
      "INFO:tensorflow:loss = 0.7380702, step = 3700 (0.275 sec)\n",
      "INFO:tensorflow:global_step/sec: 371.41\n",
      "INFO:tensorflow:loss = 0.7326105, step = 3800 (0.268 sec)\n",
      "INFO:tensorflow:global_step/sec: 367.313\n",
      "INFO:tensorflow:loss = 0.72061545, step = 3900 (0.272 sec)\n",
      "INFO:tensorflow:global_step/sec: 371.41\n",
      "INFO:tensorflow:loss = 0.7303402, step = 4000 (0.270 sec)\n",
      "INFO:tensorflow:global_step/sec: 368.668\n",
      "INFO:tensorflow:loss = 0.71470386, step = 4100 (0.271 sec)\n",
      "INFO:tensorflow:global_step/sec: 363.306\n",
      "INFO:tensorflow:loss = 0.71534824, step = 4200 (0.275 sec)\n",
      "INFO:tensorflow:global_step/sec: 371.409\n",
      "INFO:tensorflow:loss = 0.68258166, step = 4300 (0.269 sec)\n",
      "INFO:tensorflow:global_step/sec: 351.792\n",
      "INFO:tensorflow:loss = 0.69265574, step = 4400 (0.284 sec)\n",
      "INFO:tensorflow:global_step/sec: 342.156\n",
      "INFO:tensorflow:loss = 0.68873644, step = 4500 (0.291 sec)\n",
      "INFO:tensorflow:global_step/sec: 331.924\n",
      "INFO:tensorflow:loss = 0.6747431, step = 4600 (0.302 sec)\n",
      "INFO:tensorflow:global_step/sec: 329.733\n",
      "INFO:tensorflow:loss = 0.6786519, step = 4700 (0.303 sec)\n",
      "INFO:tensorflow:global_step/sec: 324.381\n",
      "INFO:tensorflow:loss = 0.67854667, step = 4800 (0.308 sec)\n",
      "INFO:tensorflow:global_step/sec: 329.733\n",
      "INFO:tensorflow:loss = 0.66768765, step = 4900 (0.302 sec)\n",
      "INFO:tensorflow:Saving checkpoints for 5000 into C:\\Users\\X\\AppData\\Local\\Temp\\tmpa84uwk1z\\model.ckpt.\n",
      "INFO:tensorflow:Loss for final step: 0.65944797.\n"
     ]
    },
    {
     "data": {
      "text/plain": [
       "<tensorflow_estimator.python.estimator.canned.dnn.DNNClassifierV2 at 0x264e2a03048>"
      ]
     },
     "execution_count": 10,
     "metadata": {},
     "output_type": "execute_result"
    }
   ],
   "source": [
    "classifier.train(\n",
    "    input_fn=lambda: input_fn(train, train_y, training=True),\n",
    "    steps=5000)"
   ]
  },
  {
   "cell_type": "code",
   "execution_count": 11,
   "metadata": {},
   "outputs": [
    {
     "name": "stdout",
     "output_type": "stream",
     "text": [
      "INFO:tensorflow:Calling model_fn.\n",
      "WARNING:tensorflow:Layer dnn is casting an input tensor from dtype float64 to the layer's dtype of float32, which is new behavior in TensorFlow 2.  The layer has dtype float32 because it's dtype defaults to floatx.\n",
      "\n",
      "If you intended to run this layer in float32, you can safely ignore this warning. If in doubt, this warning is likely only an issue if you are porting a TensorFlow 1.X model to TensorFlow 2.\n",
      "\n",
      "To change all layers to have dtype float64 by default, call `tf.keras.backend.set_floatx('float64')`. To change just this layer, pass dtype='float64' to the layer constructor. If you are the author of this layer, you can disable autocasting by passing autocast=False to the base Layer constructor.\n",
      "\n",
      "INFO:tensorflow:Done calling model_fn.\n",
      "INFO:tensorflow:Starting evaluation at 2020-06-12T18:25:23Z\n",
      "INFO:tensorflow:Graph was finalized.\n",
      "INFO:tensorflow:Restoring parameters from C:\\Users\\X\\AppData\\Local\\Temp\\tmpa84uwk1z\\model.ckpt-5000\n",
      "INFO:tensorflow:Running local_init_op.\n",
      "INFO:tensorflow:Done running local_init_op.\n",
      "INFO:tensorflow:Inference Time : 0.31429s\n",
      "INFO:tensorflow:Finished evaluation at 2020-06-12-18:25:23\n",
      "INFO:tensorflow:Saving dict for global step 5000: accuracy = 0.53333336, average_loss = 0.80555344, global_step = 5000, loss = 0.80555344\n",
      "INFO:tensorflow:Saving 'checkpoint_path' summary for global step 5000: C:\\Users\\X\\AppData\\Local\\Temp\\tmpa84uwk1z\\model.ckpt-5000\n",
      "\n",
      "Test set accuracy: 0.533\n",
      "\n"
     ]
    }
   ],
   "source": [
    "eval_result = classifier.evaluate(\n",
    "    input_fn=lambda: input_fn(test, test_y, training=False))\n",
    "\n",
    "print('\\nTest set accuracy: {accuracy:0.3f}\\n'.format(**eval_result))"
   ]
  },
  {
   "cell_type": "code",
   "execution_count": null,
   "metadata": {},
   "outputs": [
    {
     "name": "stdout",
     "output_type": "stream",
     "text": [
      "Please type numeric values as prompted.\n"
     ]
    }
   ],
   "source": [
    "def input_fn(features, batch_size=256):\n",
    "    # Convert the inputs to a Dataset without labels.\n",
    "    return tf.data.Dataset.from_tensor_slices(dict(features)).batch(batch_size)\n",
    "\n",
    "features = ['SepalLength', 'SepalWidth', 'PetalLength', 'PetalWidth']\n",
    "predict = {}\n",
    "\n",
    "print(\"Please type numeric values as prompted.\")\n",
    "for feature in features:\n",
    "    valid = True\n",
    "    while valid: \n",
    "        val = input(feature + \": \")\n",
    "        if not val.isdigit(): valid = False\n",
    "\n",
    "    predict[feature] = [float(val)]\n",
    "\n",
    "predictions = classifier.predict(input_fn=lambda: input_fn(predict))\n",
    "for pred_dict in predictions:\n",
    "    class_id = pred_dict['class_ids'][0]\n",
    "    probability = pred_dict['probabilities'][class_id]\n",
    "\n",
    "    print('Prediction is \"{}\" ({:.1f}%)'.format(\n",
    "        SPECIES[class_id], 100 * probability))"
   ]
  },
  {
   "cell_type": "code",
   "execution_count": 13,
   "metadata": {},
   "outputs": [],
   "source": [
    "# Here is some example input and expected classes you can try above\n",
    "expected = ['Setosa', 'Versicolor', 'Virginica']\n",
    "predict_x = {\n",
    "    'SepalLength': [5.1, 5.9, 6.9],\n",
    "    'SepalWidth': [3.3, 3.0, 3.1],\n",
    "    'PetalLength': [1.7, 4.2, 5.4],\n",
    "    'PetalWidth': [0.5, 1.5, 2.1],\n",
    "}"
   ]
  },
  {
   "cell_type": "code",
   "execution_count": null,
   "metadata": {},
   "outputs": [],
   "source": []
  }
 ],
 "metadata": {
  "kernelspec": {
   "display_name": "Python 3",
   "language": "python",
   "name": "python3"
  },
  "language_info": {
   "codemirror_mode": {
    "name": "ipython",
    "version": 3
   },
   "file_extension": ".py",
   "mimetype": "text/x-python",
   "name": "python",
   "nbconvert_exporter": "python",
   "pygments_lexer": "ipython3",
   "version": "3.6.10"
  }
 },
 "nbformat": 4,
 "nbformat_minor": 4
}
