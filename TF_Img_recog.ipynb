{
 "cells": [
  {
   "cell_type": "code",
   "execution_count": 1,
   "metadata": {},
   "outputs": [
    {
     "name": "stdout",
     "output_type": "stream",
     "text": [
      "Num GPUs Available:  2\n"
     ]
    }
   ],
   "source": [
    "import tensorflow as tf\n",
    "from tensorflow import keras\n",
    "\n",
    "import numpy as np\n",
    "import matplotlib.pyplot as plt\n",
    "print(\"Num GPUs Available: \", len(tf.config.experimental.list_physical_devices('GPU')))\n",
    "TF_FORCE_GPU_ALLOW_GROWTH = True"
   ]
  },
  {
   "cell_type": "code",
   "execution_count": 2,
   "metadata": {},
   "outputs": [],
   "source": [
    "fashion_mnist = keras.datasets.fashion_mnist\n",
    "(train_images, train_labels), (test_images, test_labels)= fashion_mnist.load_data()"
   ]
  },
  {
   "cell_type": "code",
   "execution_count": 3,
   "metadata": {},
   "outputs": [
    {
     "data": {
      "text/plain": [
       "(60000, 28, 28)"
      ]
     },
     "execution_count": 3,
     "metadata": {},
     "output_type": "execute_result"
    }
   ],
   "source": [
    "train_images.shape"
   ]
  },
  {
   "cell_type": "code",
   "execution_count": 4,
   "metadata": {},
   "outputs": [
    {
     "data": {
      "text/plain": [
       "194"
      ]
     },
     "execution_count": 4,
     "metadata": {},
     "output_type": "execute_result"
    }
   ],
   "source": [
    "train_images[0,23,23]"
   ]
  },
  {
   "cell_type": "code",
   "execution_count": 5,
   "metadata": {},
   "outputs": [
    {
     "data": {
      "text/plain": [
       "array([9, 0, 0, 3, 0, 2, 7, 2, 5, 5], dtype=uint8)"
      ]
     },
     "execution_count": 5,
     "metadata": {},
     "output_type": "execute_result"
    }
   ],
   "source": [
    "train_labels[:10] "
   ]
  },
  {
   "cell_type": "code",
   "execution_count": 6,
   "metadata": {},
   "outputs": [],
   "source": [
    "class_names = ['T-shirt/top', 'Trouser', 'Pullover', 'Dress', 'Coat',\n",
    "               'Sandal', 'Shirt', 'Sneaker', 'Bag', 'Ankle boot']"
   ]
  },
  {
   "cell_type": "code",
   "execution_count": 7,
   "metadata": {},
   "outputs": [
    {
     "data": {
      "image/png": "[encoded data removed]",
      "text/plain": [
       "<Figure size 432x288 with 2 Axes>"
      ]
     },
     "metadata": {
      "needs_background": "light"
     },
     "output_type": "display_data"
    }
   ],
   "source": [
    "plt.figure()\n",
    "plt.imshow(train_images[0])\n",
    "plt.colorbar()\n",
    "plt.grid(False)\n",
    "plt.show()"
   ]
  },
  {
   "cell_type": "code",
   "execution_count": 8,
   "metadata": {},
   "outputs": [],
   "source": [
    "train_images = train_images / 255.0 #we divide the images by 255 to make our image \n",
    "                                    #values on a scale between 0-255 go to 0-1\n",
    "\n",
    "test_images = test_images / 255.0"
   ]
  },
  {
   "cell_type": "code",
   "execution_count": 9,
   "metadata": {},
   "outputs": [],
   "source": [
    "model = keras.Sequential([\n",
    "    keras.layers.Flatten(input_shape=(28, 28)),  # input layer (1)\n",
    "    keras.layers.Dense(128, activation='relu'),  # hidden layer (2)\n",
    "    keras.layers.Dense(10, activation='softmax') # output layer (3)\n",
    "])"
   ]
  },
  {
   "cell_type": "code",
   "execution_count": 10,
   "metadata": {},
   "outputs": [],
   "source": [
    "model.compile(optimizer='adam',\n",
    "              loss='sparse_categorical_crossentropy',\n",
    "              metrics=['accuracy'])"
   ]
  },
  {
   "cell_type": "code",
   "execution_count": 11,
   "metadata": {},
   "outputs": [
    {
     "name": "stdout",
     "output_type": "stream",
     "text": [
      "Train on 60000 samples\n",
      "Epoch 1/50\n",
      "60000/60000 [==============================] - 6s 97us/sample - loss: 0.4993 - accuracy: 0.8238\n",
      "Epoch 2/50\n",
      "60000/60000 [==============================] - 6s 94us/sample - loss: 0.3751 - accuracy: 0.8643\n",
      "Epoch 3/50\n",
      "60000/60000 [==============================] - 6s 93us/sample - loss: 0.3361 - accuracy: 0.8781\n",
      "Epoch 4/50\n",
      "60000/60000 [==============================] - 5s 87us/sample - loss: 0.3130 - accuracy: 0.8846\n",
      "Epoch 5/50\n",
      "60000/60000 [==============================] - 5s 85us/sample - loss: 0.2944 - accuracy: 0.8920\n",
      "Epoch 6/50\n",
      "60000/60000 [==============================] - 5s 86us/sample - loss: 0.2789 - accuracy: 0.8957\n",
      "Epoch 7/50\n",
      "60000/60000 [==============================] - 5s 87us/sample - loss: 0.2658 - accuracy: 0.9011\n",
      "Epoch 8/50\n",
      "60000/60000 [==============================] - 5s 85us/sample - loss: 0.2543 - accuracy: 0.9044\n",
      "Epoch 9/50\n",
      "60000/60000 [==============================] - 5s 85us/sample - loss: 0.2448 - accuracy: 0.9097\n",
      "Epoch 10/50\n",
      "60000/60000 [==============================] - 5s 84us/sample - loss: 0.2362 - accuracy: 0.9118\n",
      "Epoch 11/50\n",
      "60000/60000 [==============================] - 5s 84us/sample - loss: 0.2304 - accuracy: 0.9137\n",
      "Epoch 12/50\n",
      "60000/60000 [==============================] - 5s 89us/sample - loss: 0.2207 - accuracy: 0.9173\n",
      "Epoch 13/50\n",
      "60000/60000 [==============================] - 5s 84us/sample - loss: 0.2151 - accuracy: 0.9190\n",
      "Epoch 14/50\n",
      "60000/60000 [==============================] - 5s 84us/sample - loss: 0.2082 - accuracy: 0.9226\n",
      "Epoch 15/50\n",
      "60000/60000 [==============================] - 5s 87us/sample - loss: 0.2021 - accuracy: 0.9238\n",
      "Epoch 16/50\n",
      "60000/60000 [==============================] - 5s 83us/sample - loss: 0.1960 - accuracy: 0.9258\n",
      "Epoch 17/50\n",
      "60000/60000 [==============================] - 5s 86us/sample - loss: 0.1890 - accuracy: 0.9292\n",
      "Epoch 18/50\n",
      "60000/60000 [==============================] - 5s 86us/sample - loss: 0.1860 - accuracy: 0.9292s - loss:\n",
      "Epoch 19/50\n",
      "60000/60000 [==============================] - 5s 83us/sample - loss: 0.1808 - accuracy: 0.9329\n",
      "Epoch 20/50\n",
      "60000/60000 [==============================] - 5s 85us/sample - loss: 0.1764 - accuracy: 0.9344\n",
      "Epoch 21/50\n",
      "60000/60000 [==============================] - 5s 86us/sample - loss: 0.1720 - accuracy: 0.9350\n",
      "Epoch 22/50\n",
      "60000/60000 [==============================] - 5s 85us/sample - loss: 0.1696 - accuracy: 0.9359\n",
      "Epoch 23/50\n",
      "60000/60000 [==============================] - 5s 82us/sample - loss: 0.1616 - accuracy: 0.9398\n",
      "Epoch 24/50\n",
      "60000/60000 [==============================] - 5s 84us/sample - loss: 0.1614 - accuracy: 0.9395\n",
      "Epoch 25/50\n",
      "60000/60000 [==============================] - 5s 87us/sample - loss: 0.1560 - accuracy: 0.9418\n",
      "Epoch 26/50\n",
      "60000/60000 [==============================] - 5s 90us/sample - loss: 0.1523 - accuracy: 0.9432\n",
      "Epoch 27/50\n",
      "60000/60000 [==============================] - 6s 93us/sample - loss: 0.1499 - accuracy: 0.9430\n",
      "Epoch 28/50\n",
      "60000/60000 [==============================] - 6s 92us/sample - loss: 0.1449 - accuracy: 0.9452\n",
      "Epoch 29/50\n",
      "60000/60000 [==============================] - 5s 86us/sample - loss: 0.1418 - accuracy: 0.9465\n",
      "Epoch 30/50\n",
      "60000/60000 [==============================] - 5s 87us/sample - loss: 0.1384 - accuracy: 0.9481\n",
      "Epoch 31/50\n",
      "60000/60000 [==============================] - 5s 89us/sample - loss: 0.1359 - accuracy: 0.9487\n",
      "Epoch 32/50\n",
      "60000/60000 [==============================] - 5s 88us/sample - loss: 0.1328 - accuracy: 0.9499\n",
      "Epoch 33/50\n",
      "60000/60000 [==============================] - 6s 92us/sample - loss: 0.1297 - accuracy: 0.9513\n",
      "Epoch 34/50\n",
      "60000/60000 [==============================] - 6s 92us/sample - loss: 0.1263 - accuracy: 0.9520\n",
      "Epoch 35/50\n",
      "60000/60000 [==============================] - 6s 93us/sample - loss: 0.1266 - accuracy: 0.9519\n",
      "Epoch 36/50\n",
      "60000/60000 [==============================] - 4s 64us/sample - loss: 0.1235 - accuracy: 0.9540\n",
      "Epoch 37/50\n",
      "60000/60000 [==============================] - 3s 51us/sample - loss: 0.1182 - accuracy: 0.9554\n",
      "Epoch 38/50\n",
      "60000/60000 [==============================] - 3s 52us/sample - loss: 0.1175 - accuracy: 0.9557\n",
      "Epoch 39/50\n",
      "60000/60000 [==============================] - 3s 51us/sample - loss: 0.1169 - accuracy: 0.9559\n",
      "Epoch 40/50\n",
      "60000/60000 [==============================] - 3s 52us/sample - loss: 0.1141 - accuracy: 0.9569\n",
      "Epoch 41/50\n",
      "60000/60000 [==============================] - 3s 52us/sample - loss: 0.1115 - accuracy: 0.9582\n",
      "Epoch 42/50\n",
      "60000/60000 [==============================] - 3s 50us/sample - loss: 0.1088 - accuracy: 0.9597\n",
      "Epoch 43/50\n",
      "60000/60000 [==============================] - 3s 50us/sample - loss: 0.1095 - accuracy: 0.9587\n",
      "Epoch 44/50\n",
      "60000/60000 [==============================] - 3s 50us/sample - loss: 0.1036 - accuracy: 0.9608\n",
      "Epoch 45/50\n",
      "60000/60000 [==============================] - 3s 50us/sample - loss: 0.1049 - accuracy: 0.9606\n",
      "Epoch 46/50\n",
      "60000/60000 [==============================] - 3s 51us/sample - loss: 0.1025 - accuracy: 0.9617\n",
      "Epoch 47/50\n",
      "60000/60000 [==============================] - 3s 53us/sample - loss: 0.1009 - accuracy: 0.9615\n",
      "Epoch 48/50\n",
      "60000/60000 [==============================] - 3s 55us/sample - loss: 0.0985 - accuracy: 0.9632\n",
      "Epoch 49/50\n",
      "60000/60000 [==============================] - 3s 50us/sample - loss: 0.0969 - accuracy: 0.9632\n",
      "Epoch 50/50\n",
      "60000/60000 [==============================] - 3s 52us/sample - loss: 0.0965 - accuracy: 0.9637\n"
     ]
    },
    {
     "data": {
      "text/plain": [
       "<tensorflow.python.keras.callbacks.History at 0x1e096f356d8>"
      ]
     },
     "execution_count": 11,
     "metadata": {},
     "output_type": "execute_result"
    }
   ],
   "source": [
    "model.fit(train_images, train_labels, epochs=50)  # we pass the data, labels and epochs and watch the magic!"
   ]
  },
  {
   "cell_type": "code",
   "execution_count": 12,
   "metadata": {},
   "outputs": [
    {
     "name": "stdout",
     "output_type": "stream",
     "text": [
      "10000/10000 [==============================] - 0s 46us/sample - loss: 0.5175 - accuracy: 0.8833\n",
      "Test accuracy: 0.8833\n"
     ]
    }
   ],
   "source": [
    "test_loss, test_acc = model.evaluate(test_images,  test_labels, verbose=1) \n",
    "\n",
    "print('Test accuracy:', test_acc)"
   ]
  },
  {
   "cell_type": "code",
   "execution_count": 13,
   "metadata": {},
   "outputs": [],
   "source": [
    "predictions = model.predict(test_images)"
   ]
  },
  {
   "cell_type": "code",
   "execution_count": 14,
   "metadata": {},
   "outputs": [
    {
     "data": {
      "text/plain": [
       "array([1.4301237e-16, 1.2724519e-19, 1.5856178e-18, 1.6951249e-21,\n",
       "       1.2656651e-26, 3.1140895e-11, 1.7069009e-15, 2.5072269e-09,\n",
       "       3.4892877e-17, 1.0000000e+00], dtype=float32)"
      ]
     },
     "execution_count": 14,
     "metadata": {},
     "output_type": "execute_result"
    }
   ],
   "source": [
    "predictions[0]"
   ]
  },
  {
   "cell_type": "code",
   "execution_count": 15,
   "metadata": {},
   "outputs": [
    {
     "data": {
      "text/plain": [
       "9"
      ]
     },
     "execution_count": 15,
     "metadata": {},
     "output_type": "execute_result"
    }
   ],
   "source": [
    "np.argmax(predictions[0])"
   ]
  },
  {
   "cell_type": "code",
   "execution_count": 16,
   "metadata": {},
   "outputs": [
    {
     "data": {
      "text/plain": [
       "9"
      ]
     },
     "execution_count": 16,
     "metadata": {},
     "output_type": "execute_result"
    }
   ],
   "source": [
    "test_labels[0]"
   ]
  },
  {
   "cell_type": "code",
   "execution_count": 17,
   "metadata": {},
   "outputs": [
    {
     "name": "stdout",
     "output_type": "stream",
     "text": [
      "Pick a number: 1\n"
     ]
    },
    {
     "data": {
      "image/png": "[encoded data removed]",
      "text/plain": [
       "<Figure size 432x288 with 2 Axes>"
      ]
     },
     "metadata": {
      "needs_background": "light"
     },
     "output_type": "display_data"
    }
   ],
   "source": [
    "COLOR = 'white'\n",
    "plt.rcParams['text.color'] = COLOR\n",
    "plt.rcParams['axes.labelcolor'] = COLOR\n",
    "\n",
    "def predict(model, image, correct_label):\n",
    "    class_names = ['T-shirt/top', 'Trouser', 'Pullover', 'Dress', 'Coat',\n",
    "               'Sandal', 'Shirt', 'Sneaker', 'Bag', 'Ankle boot']\n",
    "    prediction = model.predict(np.array([image]))\n",
    "    predicted_class = class_names[np.argmax(prediction)]\n",
    "\n",
    "    show_image(image, class_names[correct_label], predicted_class)\n",
    "\n",
    "\n",
    "def show_image(img, label, guess):\n",
    "    plt.figure()\n",
    "    plt.imshow(img, cmap=plt.cm.binary)\n",
    "    plt.title(\"Excpected: \" + label)\n",
    "    plt.xlabel(\"Guess: \" + guess)\n",
    "    plt.colorbar()\n",
    "    plt.grid(False)\n",
    "    plt.show()\n",
    "\n",
    "\n",
    "def get_number():\n",
    "    while True:\n",
    "        num = input(\"Pick a number: \")\n",
    "        if num.isdigit():\n",
    "            num = int(num)\n",
    "        if 0 <= num <= 1000:\n",
    "            return int(num)\n",
    "        else:\n",
    "            print(\"Try again...\")\n",
    "\n",
    "num = get_number()\n",
    "image = test_images[num]\n",
    "label = test_labels[num]\n",
    "predict(model, image, label)"
   ]
  },
  {
   "cell_type": "code",
   "execution_count": null,
   "metadata": {},
   "outputs": [],
   "source": []
  }
 ],
 "metadata": {
  "kernelspec": {
   "display_name": "Python 3.6.10 64-bit ('tensorflow2': conda)",
   "language": "python",
   "name": "python361064bittensorflow2condada3d9c83d5ca47f289cce787f2cb87a2"
  },
  "language_info": {
   "codemirror_mode": {
    "name": "ipython",
    "version": 3
   },
   "file_extension": ".py",
   "mimetype": "text/x-python",
   "name": "python",
   "nbconvert_exporter": "python",
   "pygments_lexer": "ipython3",
   "version": "3.6.10"
  }
 },
 "nbformat": 4,
 "nbformat_minor": 4
}
