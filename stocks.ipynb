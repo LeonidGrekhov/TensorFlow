{
 "cells": [
  {
   "cell_type": "code",
   "execution_count": 1,
   "metadata": {},
   "outputs": [
    {
     "name": "stderr",
     "output_type": "stream",
     "text": [
      "C:\\Users\\X\\Anaconda3\\envs\\tensorflow2\\lib\\site-packages\\pandas_datareader\\compat\\__init__.py:7: FutureWarning: pandas.util.testing is deprecated. Use the functions in the public API at pandas.testing instead.\n",
      "  from pandas.util.testing import assert_frame_equal\n",
      "Using TensorFlow backend.\n"
     ]
    }
   ],
   "source": [
    "import math\n",
    "import numpy as np\n",
    "import pandas as pd\n",
    "import pandas_datareader as pdd\n",
    "from sklearn.preprocessing import MinMaxScaler\n",
    "from keras.models import Sequential\n",
    "from keras.layers import Dense, LSTM, Dropout\n",
    "import matplotlib.pyplot as plt\n",
    "\n"
   ]
  },
  {
   "cell_type": "code",
   "execution_count": 2,
   "metadata": {},
   "outputs": [
    {
     "data": {
      "text/html": [
       "<div>\n",
       "<style scoped>\n",
       "    .dataframe tbody tr th:only-of-type {\n",
       "        vertical-align: middle;\n",
       "    }\n",
       "\n",
       "    .dataframe tbody tr th {\n",
       "        vertical-align: top;\n",
       "    }\n",
       "\n",
       "    .dataframe thead th {\n",
       "        text-align: right;\n",
       "    }\n",
       "</style>\n",
       "<table border=\"1\" class=\"dataframe\">\n",
       "  <thead>\n",
       "    <tr style=\"text-align: right;\">\n",
       "      <th></th>\n",
       "      <th>High</th>\n",
       "      <th>Low</th>\n",
       "      <th>Open</th>\n",
       "      <th>Close</th>\n",
       "      <th>Volume</th>\n",
       "      <th>Adj Close</th>\n",
       "    </tr>\n",
       "    <tr>\n",
       "      <th>Date</th>\n",
       "      <th></th>\n",
       "      <th></th>\n",
       "      <th></th>\n",
       "      <th></th>\n",
       "      <th></th>\n",
       "      <th></th>\n",
       "    </tr>\n",
       "  </thead>\n",
       "  <tbody>\n",
       "    <tr>\n",
       "      <th>2014-09-16</th>\n",
       "      <td>468.174011</td>\n",
       "      <td>452.421997</td>\n",
       "      <td>465.864014</td>\n",
       "      <td>457.334015</td>\n",
       "      <td>21056800</td>\n",
       "      <td>457.334015</td>\n",
       "    </tr>\n",
       "    <tr>\n",
       "      <th>2014-09-17</th>\n",
       "      <td>456.859985</td>\n",
       "      <td>413.104004</td>\n",
       "      <td>456.859985</td>\n",
       "      <td>424.440002</td>\n",
       "      <td>34483200</td>\n",
       "      <td>424.440002</td>\n",
       "    </tr>\n",
       "    <tr>\n",
       "      <th>2014-09-18</th>\n",
       "      <td>427.834991</td>\n",
       "      <td>384.532013</td>\n",
       "      <td>424.102997</td>\n",
       "      <td>394.795990</td>\n",
       "      <td>37919700</td>\n",
       "      <td>394.795990</td>\n",
       "    </tr>\n",
       "    <tr>\n",
       "      <th>2014-09-19</th>\n",
       "      <td>423.295990</td>\n",
       "      <td>389.882996</td>\n",
       "      <td>394.673004</td>\n",
       "      <td>408.903992</td>\n",
       "      <td>36863600</td>\n",
       "      <td>408.903992</td>\n",
       "    </tr>\n",
       "    <tr>\n",
       "      <th>2014-09-20</th>\n",
       "      <td>412.425995</td>\n",
       "      <td>393.181000</td>\n",
       "      <td>408.084991</td>\n",
       "      <td>398.821014</td>\n",
       "      <td>26580100</td>\n",
       "      <td>398.821014</td>\n",
       "    </tr>\n",
       "    <tr>\n",
       "      <th>...</th>\n",
       "      <td>...</td>\n",
       "      <td>...</td>\n",
       "      <td>...</td>\n",
       "      <td>...</td>\n",
       "      <td>...</td>\n",
       "      <td>...</td>\n",
       "    </tr>\n",
       "    <tr>\n",
       "      <th>2020-07-02</th>\n",
       "      <td>9202.344727</td>\n",
       "      <td>9058.794922</td>\n",
       "      <td>9124.842773</td>\n",
       "      <td>9087.303711</td>\n",
       "      <td>13078970998</td>\n",
       "      <td>9087.303711</td>\n",
       "    </tr>\n",
       "    <tr>\n",
       "      <th>2020-07-03</th>\n",
       "      <td>9183.295898</td>\n",
       "      <td>9053.629883</td>\n",
       "      <td>9084.233398</td>\n",
       "      <td>9132.488281</td>\n",
       "      <td>12290528515</td>\n",
       "      <td>9132.488281</td>\n",
       "    </tr>\n",
       "    <tr>\n",
       "      <th>2020-07-04</th>\n",
       "      <td>9162.183594</td>\n",
       "      <td>8977.015625</td>\n",
       "      <td>9126.090820</td>\n",
       "      <td>9073.942383</td>\n",
       "      <td>12903406143</td>\n",
       "      <td>9073.942383</td>\n",
       "    </tr>\n",
       "    <tr>\n",
       "      <th>2020-07-05</th>\n",
       "      <td>9375.474609</td>\n",
       "      <td>9058.664062</td>\n",
       "      <td>9072.849609</td>\n",
       "      <td>9375.474609</td>\n",
       "      <td>17889263251</td>\n",
       "      <td>9375.474609</td>\n",
       "    </tr>\n",
       "    <tr>\n",
       "      <th>2020-07-06</th>\n",
       "      <td>9360.617188</td>\n",
       "      <td>9201.815430</td>\n",
       "      <td>9349.161133</td>\n",
       "      <td>9252.277344</td>\n",
       "      <td>13839652594</td>\n",
       "      <td>9252.277344</td>\n",
       "    </tr>\n",
       "  </tbody>\n",
       "</table>\n",
       "<p>2121 rows × 6 columns</p>\n",
       "</div>"
      ],
      "text/plain": [
       "                   High          Low         Open        Close       Volume  \\\n",
       "Date                                                                          \n",
       "2014-09-16   468.174011   452.421997   465.864014   457.334015     21056800   \n",
       "2014-09-17   456.859985   413.104004   456.859985   424.440002     34483200   \n",
       "2014-09-18   427.834991   384.532013   424.102997   394.795990     37919700   \n",
       "2014-09-19   423.295990   389.882996   394.673004   408.903992     36863600   \n",
       "2014-09-20   412.425995   393.181000   408.084991   398.821014     26580100   \n",
       "...                 ...          ...          ...          ...          ...   \n",
       "2020-07-02  9202.344727  9058.794922  9124.842773  9087.303711  13078970998   \n",
       "2020-07-03  9183.295898  9053.629883  9084.233398  9132.488281  12290528515   \n",
       "2020-07-04  9162.183594  8977.015625  9126.090820  9073.942383  12903406143   \n",
       "2020-07-05  9375.474609  9058.664062  9072.849609  9375.474609  17889263251   \n",
       "2020-07-06  9360.617188  9201.815430  9349.161133  9252.277344  13839652594   \n",
       "\n",
       "              Adj Close  \n",
       "Date                     \n",
       "2014-09-16   457.334015  \n",
       "2014-09-17   424.440002  \n",
       "2014-09-18   394.795990  \n",
       "2014-09-19   408.903992  \n",
       "2014-09-20   398.821014  \n",
       "...                 ...  \n",
       "2020-07-02  9087.303711  \n",
       "2020-07-03  9132.488281  \n",
       "2020-07-04  9073.942383  \n",
       "2020-07-05  9375.474609  \n",
       "2020-07-06  9252.277344  \n",
       "\n",
       "[2121 rows x 6 columns]"
      ]
     },
     "execution_count": 2,
     "metadata": {},
     "output_type": "execute_result"
    }
   ],
   "source": [
    "df = pdd.DataReader('BTC-USD', data_source='yahoo', start='2013-01-01', end='2020-7-6')\n",
    "df\n"
   ]
  },
  {
   "cell_type": "code",
   "execution_count": 3,
   "metadata": {},
   "outputs": [
    {
     "data": {
      "text/plain": [
       "(2121, 6)"
      ]
     },
     "execution_count": 3,
     "metadata": {},
     "output_type": "execute_result"
    },
    {
     "data": {
      "image/png": "[encoded data removed]",
      "text/plain": [
       "<Figure size 1152x576 with 1 Axes>"
      ]
     },
     "metadata": {
      "needs_background": "light"
     },
     "output_type": "display_data"
    }
   ],
   "source": [
    "plt.figure(figsize=(16,8))\n",
    "plt.title('close price movement')\n",
    "plt.plot(df['Close'])\n",
    "#plt.plot(df['Volume'])\n",
    "plt.xlabel('Date', fontsize=18)\n",
    "plt.ylabel('close price in $', fontsize=18)\n",
    "plt.show\n",
    "df.shape"
   ]
  },
  {
   "cell_type": "code",
   "execution_count": 4,
   "metadata": {},
   "outputs": [
    {
     "data": {
      "text/plain": [
       "2121"
      ]
     },
     "execution_count": 4,
     "metadata": {},
     "output_type": "execute_result"
    }
   ],
   "source": [
    "data = df.filter(['Close']) ## filter out close price col\n",
    "dataset = data.values ## convert data frame to np array with values function\n",
    "len(dataset) ## total size of data set"
   ]
  },
  {
   "cell_type": "code",
   "execution_count": 5,
   "metadata": {},
   "outputs": [
    {
     "data": {
      "text/plain": [
       "1697"
      ]
     },
     "execution_count": 5,
     "metadata": {},
     "output_type": "execute_result"
    }
   ],
   "source": [
    "training_data_size = math.ceil(len(dataset)*.80) ## let aside 90% of original data for training\n",
    "training_data_size"
   ]
  },
  {
   "cell_type": "code",
   "execution_count": 6,
   "metadata": {},
   "outputs": [
    {
     "data": {
      "text/plain": [
       "array([[0.01445348],\n",
       "       [0.01275083],\n",
       "       [0.0112164 ],\n",
       "       ...,\n",
       "       [0.46046392],\n",
       "       [0.47607174],\n",
       "       [0.46969484]])"
      ]
     },
     "execution_count": 6,
     "metadata": {},
     "output_type": "execute_result"
    }
   ],
   "source": [
    "scaler = MinMaxScaler(feature_range=(0,1))## make values between zero and 1\n",
    "                                          ## to nornalize data set\n",
    "scaled_data =scaler.fit_transform(dataset)\n",
    "scaled_data ## confirm all values are between 0 and 1"
   ]
  },
  {
   "cell_type": "code",
   "execution_count": 7,
   "metadata": {},
   "outputs": [
    {
     "name": "stdout",
     "output_type": "stream",
     "text": [
      "[array([0.01445348, 0.01275083, 0.0112164 , 0.01194666, 0.01142474,\n",
      "       0.01159716, 0.01333837, 0.0126869 , 0.01208486, 0.01171481,\n",
      "       0.01146092, 0.01030462, 0.0102159 , 0.01080997, 0.01063765,\n",
      "       0.01019545, 0.00939004, 0.00780375, 0.00737123, 0.00786654,\n",
      "       0.0081827 , 0.00904986, 0.00967546, 0.00949615, 0.0095343 ,\n",
      "       0.01037543, 0.01098958, 0.0115308 , 0.01121521, 0.01058284,\n",
      "       0.01064506, 0.01104279, 0.01094465, 0.0105978 , 0.01078569,\n",
      "       0.010614  , 0.00933336, 0.00932964, 0.00875643, 0.00914117,\n",
      "       0.0090524 , 0.00929201, 0.00815185, 0.00865466, 0.00829316,\n",
      "       0.00764241, 0.00764981, 0.00773584, 0.00788792, 0.00835346,\n",
      "       0.00886093, 0.00850507, 0.00866414, 0.00958425, 0.0097737 ,\n",
      "       0.00981361, 0.01270533, 0.01255905, 0.01137283, 0.01025037])]\n",
      "[0.010858520753790677]\n",
      "[array([0.01445348, 0.01275083, 0.0112164 , 0.01194666, 0.01142474,\n",
      "       0.01159716, 0.01333837, 0.0126869 , 0.01208486, 0.01171481,\n",
      "       0.01146092, 0.01030462, 0.0102159 , 0.01080997, 0.01063765,\n",
      "       0.01019545, 0.00939004, 0.00780375, 0.00737123, 0.00786654,\n",
      "       0.0081827 , 0.00904986, 0.00967546, 0.00949615, 0.0095343 ,\n",
      "       0.01037543, 0.01098958, 0.0115308 , 0.01121521, 0.01058284,\n",
      "       0.01064506, 0.01104279, 0.01094465, 0.0105978 , 0.01078569,\n",
      "       0.010614  , 0.00933336, 0.00932964, 0.00875643, 0.00914117,\n",
      "       0.0090524 , 0.00929201, 0.00815185, 0.00865466, 0.00829316,\n",
      "       0.00764241, 0.00764981, 0.00773584, 0.00788792, 0.00835346,\n",
      "       0.00886093, 0.00850507, 0.00866414, 0.00958425, 0.0097737 ,\n",
      "       0.00981361, 0.01270533, 0.01255905, 0.01137283, 0.01025037]), array([0.01275083, 0.0112164 , 0.01194666, 0.01142474, 0.01159716,\n",
      "       0.01333837, 0.0126869 , 0.01208486, 0.01171481, 0.01146092,\n",
      "       0.01030462, 0.0102159 , 0.01080997, 0.01063765, 0.01019545,\n",
      "       0.00939004, 0.00780375, 0.00737123, 0.00786654, 0.0081827 ,\n",
      "       0.00904986, 0.00967546, 0.00949615, 0.0095343 , 0.01037543,\n",
      "       0.01098958, 0.0115308 , 0.01121521, 0.01058284, 0.01064506,\n",
      "       0.01104279, 0.01094465, 0.0105978 , 0.01078569, 0.010614  ,\n",
      "       0.00933336, 0.00932964, 0.00875643, 0.00914117, 0.0090524 ,\n",
      "       0.00929201, 0.00815185, 0.00865466, 0.00829316, 0.00764241,\n",
      "       0.00764981, 0.00773584, 0.00788792, 0.00835346, 0.00886093,\n",
      "       0.00850507, 0.00866414, 0.00958425, 0.0097737 , 0.00981361,\n",
      "       0.01270533, 0.01255905, 0.01137283, 0.01025037, 0.01085852])]\n",
      "[0.010858520753790677, 0.01083398575058763]\n"
     ]
    }
   ],
   "source": [
    "train_data = scaled_data[0:training_data_size, :] ##lstm is a 3d form num sample, time of steps(60 observation) and features\n",
    "x_train =[]\n",
    "y_train =[]\n",
    "for i in range(60, len(train_data)):\n",
    "    x_train.append(train_data[i-60:i, 0])\n",
    "    y_train.append(train_data[i,0])\n",
    "    if i<=61:\n",
    "        print(x_train)\n",
    "        print(y_train)\n",
    "        "
   ]
  },
  {
   "cell_type": "code",
   "execution_count": 8,
   "metadata": {},
   "outputs": [
    {
     "data": {
      "text/plain": [
       "(1637, 60, 1)"
      ]
     },
     "execution_count": 8,
     "metadata": {},
     "output_type": "execute_result"
    }
   ],
   "source": [
    "x_train, Y_train =np.array(x_train), np.array(y_train) \n",
    "x_train = np.reshape(x_train, (x_train.shape[0], x_train.shape[1], 1))\n",
    "x_train.shape\n",
    "\n"
   ]
  },
  {
   "cell_type": "code",
   "execution_count": 9,
   "metadata": {},
   "outputs": [],
   "source": [
    "model = Sequential()\n",
    "##50 neurons , input shape is the number of steps and features \n",
    "#model.add(LSTM(50, return_sequences=True, input_shape =(x_train.shape[1], 1)))\n",
    "#model.add(LSTM(50, return_sequences=False))\n",
    "#model.add(Dense(25))\n",
    "#model.add(Dense(1))\n",
    "\n",
    "model.add(LSTM(50, return_sequences=True, input_shape =(x_train.shape[1], 1)))\n",
    "model.add(Dropout(0.2))\n",
    "model.add(LSTM(100, return_sequences=False))\n",
    "model.add(Dropout(0.2))\n",
    "model.add(Dense(1))\n"
   ]
  },
  {
   "cell_type": "code",
   "execution_count": 10,
   "metadata": {},
   "outputs": [],
   "source": [
    "model.compile(optimizer='adam', loss='mean_squared_error')"
   ]
  },
  {
   "cell_type": "code",
   "execution_count": 12,
   "metadata": {},
   "outputs": [
    {
     "name": "stdout",
     "output_type": "stream",
     "text": [
      "Epoch 1/1\n",
      "1637/1637 [==============================] - 3s 2ms/step - loss: 0.0022\n"
     ]
    },
    {
     "data": {
      "text/plain": [
       "<keras.callbacks.callbacks.History at 0x2136b4376a0>"
      ]
     },
     "execution_count": 12,
     "metadata": {},
     "output_type": "execute_result"
    }
   ],
   "source": [
    "model.fit(x_train, y_train, batch_size=64, epochs=1)"
   ]
  },
  {
   "cell_type": "code",
   "execution_count": 13,
   "metadata": {},
   "outputs": [],
   "source": [
    "test_data = scaled_data[training_data_size -60:, :]\n",
    "x_test = []\n",
    "y_test = dataset[training_data_size: , :]\n",
    "for i in range(60, len(test_data)):\n",
    "    x_test.append(test_data[i-60:i, 0])\n"
   ]
  },
  {
   "cell_type": "code",
   "execution_count": 14,
   "metadata": {},
   "outputs": [],
   "source": [
    "x_test = np.array(x_test)"
   ]
  },
  {
   "cell_type": "code",
   "execution_count": 15,
   "metadata": {},
   "outputs": [],
   "source": [
    "x_test = np.reshape(x_test, (x_test.shape[0], x_test.shape[1],1))"
   ]
  },
  {
   "cell_type": "code",
   "execution_count": 16,
   "metadata": {},
   "outputs": [],
   "source": [
    "predictions =model.predict(x_test)\n",
    "predictions =scaler.inverse_transform(predictions)\n"
   ]
  },
  {
   "cell_type": "code",
   "execution_count": 17,
   "metadata": {},
   "outputs": [
    {
     "data": {
      "text/plain": [
       "963.9535574866959"
      ]
     },
     "execution_count": 17,
     "metadata": {},
     "output_type": "execute_result"
    }
   ],
   "source": [
    "#rmse = np.sqrt( np.mean(predictions - y_test)**2)\n",
    "#rmse\n",
    "rmse=np.sqrt(np.mean(((predictions- y_test)**2)))\n",
    "rmse"
   ]
  },
  {
   "cell_type": "code",
   "execution_count": 18,
   "metadata": {},
   "outputs": [
    {
     "name": "stderr",
     "output_type": "stream",
     "text": [
      "C:\\Users\\X\\Anaconda3\\envs\\tensorflow2\\lib\\site-packages\\ipykernel_launcher.py:3: SettingWithCopyWarning: \n",
      "A value is trying to be set on a copy of a slice from a DataFrame.\n",
      "Try using .loc[row_indexer,col_indexer] = value instead\n",
      "\n",
      "See the caveats in the documentation: https://pandas.pydata.org/pandas-docs/stable/user_guide/indexing.html#returning-a-view-versus-a-copy\n",
      "  This is separate from the ipykernel package so we can avoid doing imports until\n"
     ]
    },
    {
     "data": {
      "text/plain": [
       "<function matplotlib.pyplot.show(*args, **kw)>"
      ]
     },
     "execution_count": 18,
     "metadata": {},
     "output_type": "execute_result"
    },
    {
     "data": {
      "image/png": "[encoded data removed]",
      "text/plain": [
       "<Figure size 1152x576 with 1 Axes>"
      ]
     },
     "metadata": {
      "needs_background": "light"
     },
     "output_type": "display_data"
    }
   ],
   "source": [
    "train = data[:training_data_size]\n",
    "valid = data[training_data_size:]\n",
    "valid['predictions']= predictions\n",
    "plt.figure(figsize=(16,8))\n",
    "plt.title('Model LM')\n",
    "plt.xlabel('Date', fontsize=18)\n",
    "plt.ylabel('close price in $', fontsize=18)\n",
    "plt.plot(train['Close'])\n",
    "plt.plot(valid[['Close', 'predictions']])\n",
    "plt.legend(['Train', 'Val', 'predictions'], loc = 'lower right')\n",
    "plt.show"
   ]
  },
  {
   "cell_type": "code",
   "execution_count": 19,
   "metadata": {
    "scrolled": true
   },
   "outputs": [
    {
     "data": {
      "text/html": [
       "<div>\n",
       "<style scoped>\n",
       "    .dataframe tbody tr th:only-of-type {\n",
       "        vertical-align: middle;\n",
       "    }\n",
       "\n",
       "    .dataframe tbody tr th {\n",
       "        vertical-align: top;\n",
       "    }\n",
       "\n",
       "    .dataframe thead th {\n",
       "        text-align: right;\n",
       "    }\n",
       "</style>\n",
       "<table border=\"1\" class=\"dataframe\">\n",
       "  <thead>\n",
       "    <tr style=\"text-align: right;\">\n",
       "      <th></th>\n",
       "      <th>Close</th>\n",
       "      <th>predictions</th>\n",
       "    </tr>\n",
       "    <tr>\n",
       "      <th>Date</th>\n",
       "      <th></th>\n",
       "      <th></th>\n",
       "    </tr>\n",
       "  </thead>\n",
       "  <tbody>\n",
       "    <tr>\n",
       "      <th>2019-05-10</th>\n",
       "      <td>7204.771484</td>\n",
       "      <td>5348.452637</td>\n",
       "    </tr>\n",
       "    <tr>\n",
       "      <th>2019-05-11</th>\n",
       "      <td>6972.371582</td>\n",
       "      <td>5441.389160</td>\n",
       "    </tr>\n",
       "    <tr>\n",
       "      <th>2019-05-12</th>\n",
       "      <td>7814.915039</td>\n",
       "      <td>5548.718750</td>\n",
       "    </tr>\n",
       "    <tr>\n",
       "      <th>2019-05-13</th>\n",
       "      <td>7994.416016</td>\n",
       "      <td>5688.263184</td>\n",
       "    </tr>\n",
       "    <tr>\n",
       "      <th>2019-05-14</th>\n",
       "      <td>8205.167969</td>\n",
       "      <td>5853.869629</td>\n",
       "    </tr>\n",
       "    <tr>\n",
       "      <th>...</th>\n",
       "      <td>...</td>\n",
       "      <td>...</td>\n",
       "    </tr>\n",
       "    <tr>\n",
       "      <th>2020-07-02</th>\n",
       "      <td>9087.303711</td>\n",
       "      <td>8764.959961</td>\n",
       "    </tr>\n",
       "    <tr>\n",
       "      <th>2020-07-03</th>\n",
       "      <td>9132.488281</td>\n",
       "      <td>8741.629883</td>\n",
       "    </tr>\n",
       "    <tr>\n",
       "      <th>2020-07-04</th>\n",
       "      <td>9073.942383</td>\n",
       "      <td>8720.381836</td>\n",
       "    </tr>\n",
       "    <tr>\n",
       "      <th>2020-07-05</th>\n",
       "      <td>9375.474609</td>\n",
       "      <td>8699.721680</td>\n",
       "    </tr>\n",
       "    <tr>\n",
       "      <th>2020-07-06</th>\n",
       "      <td>9252.277344</td>\n",
       "      <td>8688.923828</td>\n",
       "    </tr>\n",
       "  </tbody>\n",
       "</table>\n",
       "<p>424 rows × 2 columns</p>\n",
       "</div>"
      ],
      "text/plain": [
       "                  Close  predictions\n",
       "Date                                \n",
       "2019-05-10  7204.771484  5348.452637\n",
       "2019-05-11  6972.371582  5441.389160\n",
       "2019-05-12  7814.915039  5548.718750\n",
       "2019-05-13  7994.416016  5688.263184\n",
       "2019-05-14  8205.167969  5853.869629\n",
       "...                 ...          ...\n",
       "2020-07-02  9087.303711  8764.959961\n",
       "2020-07-03  9132.488281  8741.629883\n",
       "2020-07-04  9073.942383  8720.381836\n",
       "2020-07-05  9375.474609  8699.721680\n",
       "2020-07-06  9252.277344  8688.923828\n",
       "\n",
       "[424 rows x 2 columns]"
      ]
     },
     "execution_count": 19,
     "metadata": {},
     "output_type": "execute_result"
    }
   ],
   "source": [
    "valid"
   ]
  },
  {
   "cell_type": "code",
   "execution_count": null,
   "metadata": {},
   "outputs": [],
   "source": []
  },
  {
   "cell_type": "code",
   "execution_count": 20,
   "metadata": {},
   "outputs": [
    {
     "name": "stdout",
     "output_type": "stream",
     "text": [
      "[[8685.3545]]\n"
     ]
    }
   ],
   "source": [
    "quote =pdd.DataReader('BTC-USD', data_source='yahoo', start='2013-01-01', end='2020-7-7')  \n",
    "new_df = quote.filter(['Close'])\n",
    "last60 = new_df[-60:].values\n",
    "last6_scaled = scaler.transform(last60)\n",
    "X_test =[]\n",
    "X_test.append(last6_scaled)\n",
    "X_test = np.array(X_test)\n",
    "X_test = np.reshape(X_test, (X_test.shape[0], X_test.shape[1],1))\n",
    "pred_price = model.predict(X_test)\n",
    "pred_price = scaler.inverse_transform(pred_price)\n",
    "print(pred_price)"
   ]
  },
  {
   "cell_type": "code",
   "execution_count": 21,
   "metadata": {},
   "outputs": [
    {
     "name": "stdout",
     "output_type": "stream",
     "text": [
      "Date\n",
      "2020-07-05    9375.474609\n",
      "2020-07-06    9252.277344\n",
      "Name: Close, dtype: float64\n"
     ]
    }
   ],
   "source": [
    "actual_price =pdd.DataReader('BTC-USD', data_source='yahoo', start='2020-7-6', end='2020-7-6') \n",
    "print(actual_price['Close'])"
   ]
  },
  {
   "cell_type": "code",
   "execution_count": null,
   "metadata": {},
   "outputs": [],
   "source": []
  },
  {
   "cell_type": "code",
   "execution_count": null,
   "metadata": {},
   "outputs": [],
   "source": []
  }
 ],
 "metadata": {
  "kernelspec": {
   "display_name": "Python 3.6.10 64-bit ('tensorflow2': conda)",
   "language": "python",
   "name": "python361064bittensorflow2condada3d9c83d5ca47f289cce787f2cb87a2"
  },
  "language_info": {
   "codemirror_mode": {
    "name": "ipython",
    "version": 3
   },
   "file_extension": ".py",
   "mimetype": "text/x-python",
   "name": "python",
   "nbconvert_exporter": "python",
   "pygments_lexer": "ipython3",
   "version": "3.6.10"
  }
 },
 "nbformat": 4,
 "nbformat_minor": 4
}
