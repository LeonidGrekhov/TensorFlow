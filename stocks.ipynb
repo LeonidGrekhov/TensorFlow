{
 "cells": [
  {
   "cell_type": "code",
   "execution_count": 1,
   "metadata": {},
   "outputs": [
    {
     "name": "stderr",
     "output_type": "stream",
     "text": [
      "C:\\Users\\X\\Anaconda3\\envs\\tensorflow2\\lib\\site-packages\\pandas_datareader\\compat\\__init__.py:7: FutureWarning: pandas.util.testing is deprecated. Use the functions in the public API at pandas.testing instead.\n",
      "  from pandas.util.testing import assert_frame_equal\n",
      "Using TensorFlow backend.\n"
     ]
    }
   ],
   "source": [
    "import math\n",
    "import numpy as np\n",
    "import pandas as pd\n",
    "import pandas_datareader as pdd\n",
    "from sklearn.preprocessing import MinMaxScaler\n",
    "from keras.models import Sequential\n",
    "from keras.layers import Dense, LSTM, Dropout\n",
    "import matplotlib.pyplot as plt\n",
    "\n"
   ]
  },
  {
   "cell_type": "code",
   "execution_count": 2,
   "metadata": {},
   "outputs": [
    {
     "data": {
      "text/html": [
       "<div>\n",
       "<style scoped>\n",
       "    .dataframe tbody tr th:only-of-type {\n",
       "        vertical-align: middle;\n",
       "    }\n",
       "\n",
       "    .dataframe tbody tr th {\n",
       "        vertical-align: top;\n",
       "    }\n",
       "\n",
       "    .dataframe thead th {\n",
       "        text-align: right;\n",
       "    }\n",
       "</style>\n",
       "<table border=\"1\" class=\"dataframe\">\n",
       "  <thead>\n",
       "    <tr style=\"text-align: right;\">\n",
       "      <th></th>\n",
       "      <th>High</th>\n",
       "      <th>Low</th>\n",
       "      <th>Open</th>\n",
       "      <th>Close</th>\n",
       "      <th>Volume</th>\n",
       "      <th>Adj Close</th>\n",
       "    </tr>\n",
       "    <tr>\n",
       "      <th>Date</th>\n",
       "      <th></th>\n",
       "      <th></th>\n",
       "      <th></th>\n",
       "      <th></th>\n",
       "      <th></th>\n",
       "      <th></th>\n",
       "    </tr>\n",
       "  </thead>\n",
       "  <tbody>\n",
       "    <tr>\n",
       "      <th>2014-09-16</th>\n",
       "      <td>468.174011</td>\n",
       "      <td>452.421997</td>\n",
       "      <td>465.864014</td>\n",
       "      <td>457.334015</td>\n",
       "      <td>2.105680e+07</td>\n",
       "      <td>457.334015</td>\n",
       "    </tr>\n",
       "    <tr>\n",
       "      <th>2014-09-17</th>\n",
       "      <td>456.859985</td>\n",
       "      <td>413.104004</td>\n",
       "      <td>456.859985</td>\n",
       "      <td>424.440002</td>\n",
       "      <td>3.448320e+07</td>\n",
       "      <td>424.440002</td>\n",
       "    </tr>\n",
       "    <tr>\n",
       "      <th>2014-09-18</th>\n",
       "      <td>427.834991</td>\n",
       "      <td>384.532013</td>\n",
       "      <td>424.102997</td>\n",
       "      <td>394.795990</td>\n",
       "      <td>3.791970e+07</td>\n",
       "      <td>394.795990</td>\n",
       "    </tr>\n",
       "    <tr>\n",
       "      <th>2014-09-19</th>\n",
       "      <td>423.295990</td>\n",
       "      <td>389.882996</td>\n",
       "      <td>394.673004</td>\n",
       "      <td>408.903992</td>\n",
       "      <td>3.686360e+07</td>\n",
       "      <td>408.903992</td>\n",
       "    </tr>\n",
       "    <tr>\n",
       "      <th>2014-09-20</th>\n",
       "      <td>412.425995</td>\n",
       "      <td>393.181000</td>\n",
       "      <td>408.084991</td>\n",
       "      <td>398.821014</td>\n",
       "      <td>2.658010e+07</td>\n",
       "      <td>398.821014</td>\n",
       "    </tr>\n",
       "    <tr>\n",
       "      <th>...</th>\n",
       "      <td>...</td>\n",
       "      <td>...</td>\n",
       "      <td>...</td>\n",
       "      <td>...</td>\n",
       "      <td>...</td>\n",
       "      <td>...</td>\n",
       "    </tr>\n",
       "    <tr>\n",
       "      <th>2020-07-01</th>\n",
       "      <td>9274.962891</td>\n",
       "      <td>9036.623047</td>\n",
       "      <td>9231.139648</td>\n",
       "      <td>9123.410156</td>\n",
       "      <td>1.633892e+10</td>\n",
       "      <td>9123.410156</td>\n",
       "    </tr>\n",
       "    <tr>\n",
       "      <th>2020-07-02</th>\n",
       "      <td>9202.344727</td>\n",
       "      <td>9058.794922</td>\n",
       "      <td>9124.842773</td>\n",
       "      <td>9087.303711</td>\n",
       "      <td>1.307897e+10</td>\n",
       "      <td>9087.303711</td>\n",
       "    </tr>\n",
       "    <tr>\n",
       "      <th>2020-07-03</th>\n",
       "      <td>9183.295898</td>\n",
       "      <td>9053.629883</td>\n",
       "      <td>9084.233398</td>\n",
       "      <td>9132.488281</td>\n",
       "      <td>1.229053e+10</td>\n",
       "      <td>9132.488281</td>\n",
       "    </tr>\n",
       "    <tr>\n",
       "      <th>2020-07-04</th>\n",
       "      <td>9162.183594</td>\n",
       "      <td>8977.015625</td>\n",
       "      <td>9126.090820</td>\n",
       "      <td>9073.942383</td>\n",
       "      <td>1.290341e+10</td>\n",
       "      <td>9073.942383</td>\n",
       "    </tr>\n",
       "    <tr>\n",
       "      <th>2020-07-06</th>\n",
       "      <td>9344.126953</td>\n",
       "      <td>9058.664062</td>\n",
       "      <td>9069.160156</td>\n",
       "      <td>9337.981445</td>\n",
       "      <td>1.777074e+10</td>\n",
       "      <td>9337.981445</td>\n",
       "    </tr>\n",
       "  </tbody>\n",
       "</table>\n",
       "<p>2120 rows × 6 columns</p>\n",
       "</div>"
      ],
      "text/plain": [
       "                   High          Low         Open        Close        Volume  \\\n",
       "Date                                                                           \n",
       "2014-09-16   468.174011   452.421997   465.864014   457.334015  2.105680e+07   \n",
       "2014-09-17   456.859985   413.104004   456.859985   424.440002  3.448320e+07   \n",
       "2014-09-18   427.834991   384.532013   424.102997   394.795990  3.791970e+07   \n",
       "2014-09-19   423.295990   389.882996   394.673004   408.903992  3.686360e+07   \n",
       "2014-09-20   412.425995   393.181000   408.084991   398.821014  2.658010e+07   \n",
       "...                 ...          ...          ...          ...           ...   \n",
       "2020-07-01  9274.962891  9036.623047  9231.139648  9123.410156  1.633892e+10   \n",
       "2020-07-02  9202.344727  9058.794922  9124.842773  9087.303711  1.307897e+10   \n",
       "2020-07-03  9183.295898  9053.629883  9084.233398  9132.488281  1.229053e+10   \n",
       "2020-07-04  9162.183594  8977.015625  9126.090820  9073.942383  1.290341e+10   \n",
       "2020-07-06  9344.126953  9058.664062  9069.160156  9337.981445  1.777074e+10   \n",
       "\n",
       "              Adj Close  \n",
       "Date                     \n",
       "2014-09-16   457.334015  \n",
       "2014-09-17   424.440002  \n",
       "2014-09-18   394.795990  \n",
       "2014-09-19   408.903992  \n",
       "2014-09-20   398.821014  \n",
       "...                 ...  \n",
       "2020-07-01  9123.410156  \n",
       "2020-07-02  9087.303711  \n",
       "2020-07-03  9132.488281  \n",
       "2020-07-04  9073.942383  \n",
       "2020-07-06  9337.981445  \n",
       "\n",
       "[2120 rows x 6 columns]"
      ]
     },
     "execution_count": 2,
     "metadata": {},
     "output_type": "execute_result"
    }
   ],
   "source": [
    "df = pdd.DataReader('BTC-USD', data_source='yahoo', start='2013-01-01', end='2020-7-6')\n",
    "df\n"
   ]
  },
  {
   "cell_type": "code",
   "execution_count": 37,
   "metadata": {},
   "outputs": [
    {
     "data": {
      "text/plain": [
       "(2120, 6)"
      ]
     },
     "execution_count": 37,
     "metadata": {},
     "output_type": "execute_result"
    },
    {
     "data": {
      "image/png": "[encoded data removed]",
      "text/plain": [
       "<Figure size 1152x576 with 1 Axes>"
      ]
     },
     "metadata": {
      "needs_background": "light"
     },
     "output_type": "display_data"
    }
   ],
   "source": [
    "plt.figure(figsize=(16,8))\n",
    "plt.title('close price movement')\n",
    "plt.plot(df['Close'])\n",
    "#plt.plot(df['Volume'])\n",
    "plt.xlabel('Date', fontsize=18)\n",
    "plt.ylabel('close price in $', fontsize=18)\n",
    "plt.show\n",
    "df.shape"
   ]
  },
  {
   "cell_type": "code",
   "execution_count": 54,
   "metadata": {},
   "outputs": [
    {
     "data": {
      "text/plain": [
       "2120"
      ]
     },
     "execution_count": 54,
     "metadata": {},
     "output_type": "execute_result"
    }
   ],
   "source": [
    "data = df.filter(['Close']) ## filter out close price col\n",
    "dataset = data.values ## convert data frame to np array with values function\n",
    "len(dataset) ## total size of data set"
   ]
  },
  {
   "cell_type": "code",
   "execution_count": 39,
   "metadata": {},
   "outputs": [
    {
     "data": {
      "text/plain": [
       "1696"
      ]
     },
     "execution_count": 39,
     "metadata": {},
     "output_type": "execute_result"
    }
   ],
   "source": [
    "training_data_size = math.ceil(len(dataset)*.80) ## let aside 90% of original data for training\n",
    "training_data_size"
   ]
  },
  {
   "cell_type": "code",
   "execution_count": 40,
   "metadata": {},
   "outputs": [
    {
     "data": {
      "text/plain": [
       "array([[1.44534769e-02, 2.04208427e-04],\n",
       "       [1.27508263e-02, 3.85277136e-04],\n",
       "       [1.12164013e-02, 4.31621846e-04],\n",
       "       ...,\n",
       "       [4.63494355e-01, 1.65670558e-01],\n",
       "       [4.60463919e-01, 1.73935838e-01],\n",
       "       [4.74131034e-01, 2.39576800e-01]])"
      ]
     },
     "execution_count": 40,
     "metadata": {},
     "output_type": "execute_result"
    }
   ],
   "source": [
    "scaler = MinMaxScaler(feature_range=(0,1))## make values between zero and 1\n",
    "                                          ## to nornalize data set\n",
    "scaled_data =scaler.fit_transform(dataset)\n",
    "scaled_data ## confirm all values are between 0 and 1"
   ]
  },
  {
   "cell_type": "code",
   "execution_count": 41,
   "metadata": {},
   "outputs": [
    {
     "name": "stdout",
     "output_type": "stream",
     "text": [
      "[array([0.01445348, 0.01275083, 0.0112164 , 0.01194666, 0.01142474,\n",
      "       0.01159716, 0.01333837, 0.0126869 , 0.01208486, 0.01171481,\n",
      "       0.01146092, 0.01030462, 0.0102159 , 0.01080997, 0.01063765,\n",
      "       0.01019545, 0.00939004, 0.00780375, 0.00737123, 0.00786654,\n",
      "       0.0081827 , 0.00904986, 0.00967546, 0.00949615, 0.0095343 ,\n",
      "       0.01037543, 0.01098958, 0.0115308 , 0.01121521, 0.01058284,\n",
      "       0.01064506, 0.01104279, 0.01094465, 0.0105978 , 0.01078569,\n",
      "       0.010614  , 0.00933336, 0.00932964, 0.00875643, 0.00914117,\n",
      "       0.0090524 , 0.00929201, 0.00815185, 0.00865466, 0.00829316,\n",
      "       0.00764241, 0.00764981, 0.00773584, 0.00788792, 0.00835346,\n",
      "       0.00886093, 0.00850507, 0.00866414, 0.00958425, 0.0097737 ,\n",
      "       0.00981361, 0.01270533, 0.01255905, 0.01137283, 0.01025037])]\n",
      "[0.010858520753790677]\n",
      "[array([0.01445348, 0.01275083, 0.0112164 , 0.01194666, 0.01142474,\n",
      "       0.01159716, 0.01333837, 0.0126869 , 0.01208486, 0.01171481,\n",
      "       0.01146092, 0.01030462, 0.0102159 , 0.01080997, 0.01063765,\n",
      "       0.01019545, 0.00939004, 0.00780375, 0.00737123, 0.00786654,\n",
      "       0.0081827 , 0.00904986, 0.00967546, 0.00949615, 0.0095343 ,\n",
      "       0.01037543, 0.01098958, 0.0115308 , 0.01121521, 0.01058284,\n",
      "       0.01064506, 0.01104279, 0.01094465, 0.0105978 , 0.01078569,\n",
      "       0.010614  , 0.00933336, 0.00932964, 0.00875643, 0.00914117,\n",
      "       0.0090524 , 0.00929201, 0.00815185, 0.00865466, 0.00829316,\n",
      "       0.00764241, 0.00764981, 0.00773584, 0.00788792, 0.00835346,\n",
      "       0.00886093, 0.00850507, 0.00866414, 0.00958425, 0.0097737 ,\n",
      "       0.00981361, 0.01270533, 0.01255905, 0.01137283, 0.01025037]), array([0.01275083, 0.0112164 , 0.01194666, 0.01142474, 0.01159716,\n",
      "       0.01333837, 0.0126869 , 0.01208486, 0.01171481, 0.01146092,\n",
      "       0.01030462, 0.0102159 , 0.01080997, 0.01063765, 0.01019545,\n",
      "       0.00939004, 0.00780375, 0.00737123, 0.00786654, 0.0081827 ,\n",
      "       0.00904986, 0.00967546, 0.00949615, 0.0095343 , 0.01037543,\n",
      "       0.01098958, 0.0115308 , 0.01121521, 0.01058284, 0.01064506,\n",
      "       0.01104279, 0.01094465, 0.0105978 , 0.01078569, 0.010614  ,\n",
      "       0.00933336, 0.00932964, 0.00875643, 0.00914117, 0.0090524 ,\n",
      "       0.00929201, 0.00815185, 0.00865466, 0.00829316, 0.00764241,\n",
      "       0.00764981, 0.00773584, 0.00788792, 0.00835346, 0.00886093,\n",
      "       0.00850507, 0.00866414, 0.00958425, 0.0097737 , 0.00981361,\n",
      "       0.01270533, 0.01255905, 0.01137283, 0.01025037, 0.01085852])]\n",
      "[0.010858520753790677, 0.01083398575058763]\n"
     ]
    }
   ],
   "source": [
    "train_data = scaled_data[0:training_data_size, :] ##lstm is a 3d form num sample, time of steps(60 observation) and features\n",
    "x_train =[]\n",
    "y_train =[]\n",
    "for i in range(60, len(train_data)):\n",
    "    x_train.append(train_data[i-60:i, 0])\n",
    "    y_train.append(train_data[i,0])\n",
    "    if i<=61:\n",
    "        print(x_train)\n",
    "        print(y_train)\n",
    "        "
   ]
  },
  {
   "cell_type": "code",
   "execution_count": 42,
   "metadata": {},
   "outputs": [
    {
     "data": {
      "text/plain": [
       "(1636, 60, 1)"
      ]
     },
     "execution_count": 42,
     "metadata": {},
     "output_type": "execute_result"
    }
   ],
   "source": [
    "x_train, Y_train =np.array(x_train), np.array(y_train) \n",
    "x_train = np.reshape(x_train, (x_train.shape[0], x_train.shape[1], 1))\n",
    "x_train.shape\n",
    "\n"
   ]
  },
  {
   "cell_type": "code",
   "execution_count": 43,
   "metadata": {},
   "outputs": [],
   "source": [
    "model = Sequential()\n",
    "##50 neurons , input shape is the number of steps and features \n",
    "#model.add(LSTM(50, return_sequences=True, input_shape =(x_train.shape[1], 1)))\n",
    "#model.add(LSTM(50, return_sequences=False))\n",
    "#model.add(Dense(25))\n",
    "#model.add(Dense(1))\n",
    "\n",
    "model.add(LSTM(50, return_sequences=True, input_shape =(x_train.shape[1], 1)))\n",
    "model.add(Dropout(0.2))\n",
    "model.add(LSTM(100, return_sequences=False))\n",
    "model.add(Dropout(0.2))\n",
    "model.add(Dense(1))\n"
   ]
  },
  {
   "cell_type": "code",
   "execution_count": 44,
   "metadata": {},
   "outputs": [],
   "source": [
    "model.compile(optimizer='adam', loss='mean_squared_error')"
   ]
  },
  {
   "cell_type": "code",
   "execution_count": 45,
   "metadata": {},
   "outputs": [
    {
     "name": "stdout",
     "output_type": "stream",
     "text": [
      "Epoch 1/1\n",
      "1636/1636 [==============================] - 224s 137ms/step - loss: 0.0025\n"
     ]
    },
    {
     "data": {
      "text/plain": [
       "<keras.callbacks.callbacks.History at 0x1d61027ffd0>"
      ]
     },
     "execution_count": 45,
     "metadata": {},
     "output_type": "execute_result"
    }
   ],
   "source": [
    "model.fit(x_train, y_train, batch_size=1, epochs=1)"
   ]
  },
  {
   "cell_type": "code",
   "execution_count": 46,
   "metadata": {},
   "outputs": [],
   "source": [
    "test_data = scaled_data[training_data_size -60:, :]\n",
    "x_test = []\n",
    "y_test = dataset[training_data_size: , :]\n",
    "for i in range(60, len(test_data)):\n",
    "    x_test.append(test_data[i-60:i, 0])\n"
   ]
  },
  {
   "cell_type": "code",
   "execution_count": 47,
   "metadata": {},
   "outputs": [],
   "source": [
    "x_test = np.array(x_test)"
   ]
  },
  {
   "cell_type": "code",
   "execution_count": 52,
   "metadata": {},
   "outputs": [],
   "source": [
    "x_test = np.reshape(x_test, (x_test.shape[0], x_test.shape[1],1))"
   ]
  },
  {
   "cell_type": "code",
   "execution_count": 53,
   "metadata": {},
   "outputs": [
    {
     "ename": "ValueError",
     "evalue": "non-broadcastable output operand with shape (424,1) doesn't match the broadcast shape (424,2)",
     "output_type": "error",
     "traceback": [
      "\u001b[1;31m---------------------------------------------------------------------------\u001b[0m",
      "\u001b[1;31mValueError\u001b[0m                                Traceback (most recent call last)",
      "\u001b[1;32m<ipython-input-53-3eda9b005f38>\u001b[0m in \u001b[0;36m<module>\u001b[1;34m\u001b[0m\n\u001b[0;32m      1\u001b[0m \u001b[0mpredictions\u001b[0m \u001b[1;33m=\u001b[0m\u001b[0mmodel\u001b[0m\u001b[1;33m.\u001b[0m\u001b[0mpredict\u001b[0m\u001b[1;33m(\u001b[0m\u001b[0mx_test\u001b[0m\u001b[1;33m)\u001b[0m\u001b[1;33m\u001b[0m\u001b[1;33m\u001b[0m\u001b[0m\n\u001b[1;32m----> 2\u001b[1;33m \u001b[0mpredictions\u001b[0m \u001b[1;33m=\u001b[0m\u001b[0mscaler\u001b[0m\u001b[1;33m.\u001b[0m\u001b[0minverse_transform\u001b[0m\u001b[1;33m(\u001b[0m\u001b[0mpredictions\u001b[0m\u001b[1;33m)\u001b[0m\u001b[1;33m\u001b[0m\u001b[1;33m\u001b[0m\u001b[0m\n\u001b[0m",
      "\u001b[1;32m~\\Anaconda3\\envs\\tensorflow2\\lib\\site-packages\\sklearn\\preprocessing\\_data.py\u001b[0m in \u001b[0;36minverse_transform\u001b[1;34m(self, X)\u001b[0m\n\u001b[0;32m    430\u001b[0m                         force_all_finite=\"allow-nan\")\n\u001b[0;32m    431\u001b[0m \u001b[1;33m\u001b[0m\u001b[0m\n\u001b[1;32m--> 432\u001b[1;33m         \u001b[0mX\u001b[0m \u001b[1;33m-=\u001b[0m \u001b[0mself\u001b[0m\u001b[1;33m.\u001b[0m\u001b[0mmin_\u001b[0m\u001b[1;33m\u001b[0m\u001b[1;33m\u001b[0m\u001b[0m\n\u001b[0m\u001b[0;32m    433\u001b[0m         \u001b[0mX\u001b[0m \u001b[1;33m/=\u001b[0m \u001b[0mself\u001b[0m\u001b[1;33m.\u001b[0m\u001b[0mscale_\u001b[0m\u001b[1;33m\u001b[0m\u001b[1;33m\u001b[0m\u001b[0m\n\u001b[0;32m    434\u001b[0m         \u001b[1;32mreturn\u001b[0m \u001b[0mX\u001b[0m\u001b[1;33m\u001b[0m\u001b[1;33m\u001b[0m\u001b[0m\n",
      "\u001b[1;31mValueError\u001b[0m: non-broadcastable output operand with shape (424,1) doesn't match the broadcast shape (424,2)"
     ]
    }
   ],
   "source": [
    "predictions =model.predict(x_test)\n",
    "predictions =scaler.inverse_transform(predictions)\n"
   ]
  },
  {
   "cell_type": "code",
   "execution_count": null,
   "metadata": {},
   "outputs": [],
   "source": [
    "#rmse = np.sqrt( np.mean(predictions - y_test)**2)\n",
    "#rmse\n",
    "rmse=np.sqrt(np.mean(((predictions- y_test)**2)))\n",
    "rmse"
   ]
  },
  {
   "cell_type": "code",
   "execution_count": 26,
   "metadata": {},
   "outputs": [
    {
     "name": "stderr",
     "output_type": "stream",
     "text": [
      "C:\\Users\\X\\Anaconda3\\envs\\tensorflow2\\lib\\site-packages\\ipykernel_launcher.py:3: SettingWithCopyWarning: \n",
      "A value is trying to be set on a copy of a slice from a DataFrame.\n",
      "Try using .loc[row_indexer,col_indexer] = value instead\n",
      "\n",
      "See the caveats in the documentation: https://pandas.pydata.org/pandas-docs/stable/user_guide/indexing.html#returning-a-view-versus-a-copy\n",
      "  This is separate from the ipykernel package so we can avoid doing imports until\n"
     ]
    },
    {
     "data": {
      "text/plain": [
       "<function matplotlib.pyplot.show(*args, **kw)>"
      ]
     },
     "execution_count": 26,
     "metadata": {},
     "output_type": "execute_result"
    },
    {
     "data": {
      "image/png": "[encoded data removed]",
      "text/plain": [
       "<Figure size 1152x576 with 1 Axes>"
      ]
     },
     "metadata": {
      "needs_background": "light"
     },
     "output_type": "display_data"
    }
   ],
   "source": [
    "train = data[:training_data_size]\n",
    "valid = data[training_data_size:]\n",
    "valid['predictions']= predictions\n",
    "plt.figure(figsize=(16,8))\n",
    "plt.title('Model LM')\n",
    "plt.xlabel('Date', fontsize=18)\n",
    "plt.ylabel('close price in $', fontsize=18)\n",
    "plt.plot(train['Close'])\n",
    "plt.plot(valid[['Close', 'predictions']])\n",
    "plt.legend(['Train', 'Val', 'predictions'], loc = 'lower right')\n",
    "plt.show"
   ]
  },
  {
   "cell_type": "code",
   "execution_count": 27,
   "metadata": {
    "scrolled": true
   },
   "outputs": [
    {
     "data": {
      "text/html": [
       "<div>\n",
       "<style scoped>\n",
       "    .dataframe tbody tr th:only-of-type {\n",
       "        vertical-align: middle;\n",
       "    }\n",
       "\n",
       "    .dataframe tbody tr th {\n",
       "        vertical-align: top;\n",
       "    }\n",
       "\n",
       "    .dataframe thead th {\n",
       "        text-align: right;\n",
       "    }\n",
       "</style>\n",
       "<table border=\"1\" class=\"dataframe\">\n",
       "  <thead>\n",
       "    <tr style=\"text-align: right;\">\n",
       "      <th></th>\n",
       "      <th>Close</th>\n",
       "      <th>predictions</th>\n",
       "    </tr>\n",
       "    <tr>\n",
       "      <th>Date</th>\n",
       "      <th></th>\n",
       "      <th></th>\n",
       "    </tr>\n",
       "  </thead>\n",
       "  <tbody>\n",
       "    <tr>\n",
       "      <th>2019-05-09</th>\n",
       "      <td>6378.849121</td>\n",
       "      <td>5565.396973</td>\n",
       "    </tr>\n",
       "    <tr>\n",
       "      <th>2019-05-10</th>\n",
       "      <td>7204.771484</td>\n",
       "      <td>5667.229004</td>\n",
       "    </tr>\n",
       "    <tr>\n",
       "      <th>2019-05-11</th>\n",
       "      <td>6972.371582</td>\n",
       "      <td>5861.466797</td>\n",
       "    </tr>\n",
       "    <tr>\n",
       "      <th>2019-05-12</th>\n",
       "      <td>7814.915039</td>\n",
       "      <td>6063.295410</td>\n",
       "    </tr>\n",
       "    <tr>\n",
       "      <th>2019-05-13</th>\n",
       "      <td>7994.416016</td>\n",
       "      <td>6338.774902</td>\n",
       "    </tr>\n",
       "    <tr>\n",
       "      <th>...</th>\n",
       "      <td>...</td>\n",
       "      <td>...</td>\n",
       "    </tr>\n",
       "    <tr>\n",
       "      <th>2020-07-01</th>\n",
       "      <td>9123.410156</td>\n",
       "      <td>8291.408203</td>\n",
       "    </tr>\n",
       "    <tr>\n",
       "      <th>2020-07-02</th>\n",
       "      <td>9087.303711</td>\n",
       "      <td>8280.667969</td>\n",
       "    </tr>\n",
       "    <tr>\n",
       "      <th>2020-07-03</th>\n",
       "      <td>9132.488281</td>\n",
       "      <td>8268.974609</td>\n",
       "    </tr>\n",
       "    <tr>\n",
       "      <th>2020-07-04</th>\n",
       "      <td>9073.942383</td>\n",
       "      <td>8263.379883</td>\n",
       "    </tr>\n",
       "    <tr>\n",
       "      <th>2020-07-06</th>\n",
       "      <td>9337.981445</td>\n",
       "      <td>8255.756836</td>\n",
       "    </tr>\n",
       "  </tbody>\n",
       "</table>\n",
       "<p>424 rows × 2 columns</p>\n",
       "</div>"
      ],
      "text/plain": [
       "                  Close  predictions\n",
       "Date                                \n",
       "2019-05-09  6378.849121  5565.396973\n",
       "2019-05-10  7204.771484  5667.229004\n",
       "2019-05-11  6972.371582  5861.466797\n",
       "2019-05-12  7814.915039  6063.295410\n",
       "2019-05-13  7994.416016  6338.774902\n",
       "...                 ...          ...\n",
       "2020-07-01  9123.410156  8291.408203\n",
       "2020-07-02  9087.303711  8280.667969\n",
       "2020-07-03  9132.488281  8268.974609\n",
       "2020-07-04  9073.942383  8263.379883\n",
       "2020-07-06  9337.981445  8255.756836\n",
       "\n",
       "[424 rows x 2 columns]"
      ]
     },
     "execution_count": 27,
     "metadata": {},
     "output_type": "execute_result"
    }
   ],
   "source": [
    "valid"
   ]
  },
  {
   "cell_type": "code",
   "execution_count": null,
   "metadata": {},
   "outputs": [],
   "source": []
  },
  {
   "cell_type": "code",
   "execution_count": 31,
   "metadata": {},
   "outputs": [
    {
     "name": "stdout",
     "output_type": "stream",
     "text": [
      "[[8272.71]]\n"
     ]
    }
   ],
   "source": [
    "quote =pdd.DataReader('BTC-USD', data_source='yahoo', start='2013-01-01', end='2020-7-7')  \n",
    "new_df = quote.filter(['Close'])\n",
    "last60 = new_df[-60:].values\n",
    "last6_scaled = scaler.transform(last60)\n",
    "X_test =[]\n",
    "X_test.append(last6_scaled)\n",
    "X_test = np.array(X_test)\n",
    "X_test = np.reshape(X_test, (X_test.shape[0], X_test.shape[1],1))\n",
    "pred_price = model.predict(X_test)\n",
    "pred_price = scaler.inverse_transform(pred_price)\n",
    "print(pred_price)"
   ]
  },
  {
   "cell_type": "code",
   "execution_count": 29,
   "metadata": {},
   "outputs": [
    {
     "name": "stdout",
     "output_type": "stream",
     "text": [
      "Date\n",
      "2020-07-06    9294.806641\n",
      "Name: Close, dtype: float64\n"
     ]
    }
   ],
   "source": [
    "actual_price =pdd.DataReader('BTC-USD', data_source='yahoo', start='2020-7-6', end='2020-7-6') \n",
    "print(actual_price['Close'])"
   ]
  },
  {
   "cell_type": "code",
   "execution_count": null,
   "metadata": {},
   "outputs": [],
   "source": []
  }
 ],
 "metadata": {
  "kernelspec": {
   "display_name": "Python 3.6.10 64-bit ('tensorflow2': conda)",
   "language": "python",
   "name": "python361064bittensorflow2condada3d9c83d5ca47f289cce787f2cb87a2"
  },
  "language_info": {
   "codemirror_mode": {
    "name": "ipython",
    "version": 3
   },
   "file_extension": ".py",
   "mimetype": "text/x-python",
   "name": "python",
   "nbconvert_exporter": "python",
   "pygments_lexer": "ipython3",
   "version": "3.6.10"
  }
 },
 "nbformat": 4,
 "nbformat_minor": 4
}
